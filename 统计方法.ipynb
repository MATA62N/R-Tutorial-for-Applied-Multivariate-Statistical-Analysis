{
 "cells": [
  {
   "cell_type": "markdown",
   "metadata": {
    "slideshow": {
     "slide_type": "slide"
    }
   },
   "source": [
    "# 统计方法"
   ]
  },
  {
   "cell_type": "markdown",
   "metadata": {
    "slideshow": {
     "slide_type": "slide"
    }
   },
   "source": [
    "### 假设检验\n",
    "\n",
    "假设检验是统计推断中的一个重要内容，它是利用样本数据对某个实现作出的统计假设按照某种设计好的方法进行检验，判断次假设是否正确。\n",
    "\n",
    "- 基本思想：反证法，为了检验一个“假设”是否成立，先假定这个假设是成立的，却导致一个不合理现象的出现，那么原先的假定不正确。\n",
    "- 两类错误：（1）否定真实的原假设（2）接收错误的原假设。\n",
    "- 在教科书中，用拒绝域来否定H0来决定，在计算机软件中计算第一类错误的概率（P值）来决定。当犯第一类错误的概率（P值）足够小时，说明否定真实的原假设基本不发生，原假设是不正确的，即拒绝原假设。"
   ]
  },
  {
   "cell_type": "markdown",
   "metadata": {
    "slideshow": {
     "slide_type": "slide"
    }
   },
   "source": [
    "假设检验方法通常分为两类：\n",
    "\n",
    "- 参数性假设检验，即已知总体分布时通过样本检验关于位置参数的某个假设，比如正态总体均值及方差的假设检验\n",
    "- 非参数检验，即总体分布未知时的检验问题"
   ]
  },
  {
   "cell_type": "markdown",
   "metadata": {
    "slideshow": {
     "slide_type": "slide"
    }
   },
   "source": [
    "重要的参数有：t检验，F检验等，仅仅挑出t检验说明R语言所提供的检验函数是怎么样的。\n",
    "\n",
    "对于单正态总体，方差未知，检验均值则使用：t检验"
   ]
  },
  {
   "cell_type": "markdown",
   "metadata": {
    "slideshow": {
     "slide_type": "slide"
    }
   },
   "source": [
    "函数：\n",
    "\n",
    "```\n",
    "t.test(x,y=NULL,\n",
    "\n",
    "    alternative=c(\"two.sided\",\"less\",\"greater\"),\n",
    "\n",
    "    mu=0,paired=FALSE,var.equal=FALSE,\n",
    "\n",
    "    conf.level=0.95)\n",
    "\n",
    "```\n",
    "\n",
    "其中x,y是又数据构成e向量，（如果只提供x,则作单个正态总体的均值检验，如果提供x,y则作两个总体的均值检验)，alternative表示被则假设，two.sided(缺省)，双边检验(H1:μ≠H0)，less表示单边检验(H1:μ<μ0),greater表示单边检验(H1:μ>μ0)，mu表示原假设μ0，conf.level置信水平，即1-α，通常是0.95，var.equal是逻辑变量，var.equal=TRUE表示两样品方差相同，var.equal=FALSE（缺省）表示两样本方差不同。"
   ]
  },
  {
   "cell_type": "markdown",
   "metadata": {
    "slideshow": {
     "slide_type": "slide"
    }
   },
   "source": [
    "例子：\n",
    "某种原件的寿命X（以小时计）服从正态分布N（μ, σ)其中μ, σ2均未知。现测得16只元件的寿命如下：\n",
    "\n",
    "                 159 280 101 212 224 379 179 264\n",
    "                  222 362 168 250 149 260 485 170\n",
    "\n",
    "问是否有理由认为元件的平均寿命大于255小时？"
   ]
  },
  {
   "cell_type": "code",
   "execution_count": 2,
   "metadata": {
    "slideshow": {
     "slide_type": "slide"
    }
   },
   "outputs": [
    {
     "data": {
      "text/plain": [
       "\n",
       "\tOne Sample t-test\n",
       "\n",
       "data:  X\n",
       "t = 0.66852, df = 15, p-value = 0.257\n",
       "alternative hypothesis: true mean is greater than 225\n",
       "95 percent confidence interval:\n",
       " 198.2321      Inf\n",
       "sample estimates:\n",
       "mean of x \n",
       "    241.5 \n"
      ]
     },
     "metadata": {},
     "output_type": "display_data"
    }
   ],
   "source": [
    "X<-c(159, 280, 101, 212, 224, 379, 179, 264,\n",
    "        222, 362, 168, 250, 149, 260, 485, 170)\n",
    "t.test(X,alternative = \"greater\",mu=225)"
   ]
  },
  {
   "cell_type": "markdown",
   "metadata": {
    "slideshow": {
     "slide_type": "slide"
    }
   },
   "source": [
    "可见P值为0.257 > 0.05 ，不能拒绝原假设，接受H0，即平均寿命不大于225小时。"
   ]
  },
  {
   "cell_type": "markdown",
   "metadata": {
    "slideshow": {
     "slide_type": "slide"
    }
   },
   "source": [
    "### 回归分析\n",
    "\n",
    "回归分析是一种非常广泛使用的统计工具，用于建立两个或者多个变量之间的关系模型，比如是否相关、相关方向与强度等等。 这些变量之一称为预测变量，其值通过实验收集。另一个变量称为响应变量，其值从预测变量派生。回归分析有许多模型，此处了解简单的线性回归模型，看看其在R中是怎么样的。\n",
    "\n",
    "对于线性回归模型，我们需要考虑：\n",
    "- 模型\n",
    "- 回归参数的估计\n",
    "- 回归系数的显著性检验\n",
    "- 回归方程的显著性检验\n",
    "- 相关性检验"
   ]
  },
  {
   "cell_type": "markdown",
   "metadata": {
    "slideshow": {
     "slide_type": "slide"
    }
   },
   "source": [
    "线性回归函数：\n",
    "\n",
    "```\n",
    "lm(formula, data, subset, weights, na.action,\n",
    "\n",
    "  method = \"qr\", model = TRUE, x = FALSE, y = FALSE, qr = TRUE,\n",
    "\n",
    "  singular.ok = TRUE, contrasts = NULL, offset, ...)\n",
    "```\n",
    "该函数能完成线性回归的估计和检验工作，以下是所使用的参数的说明\n",
    "\n",
    "- formula是表示x和y之间的关系的符号。\n",
    "\n",
    "- data是应用公式的向量。"
   ]
  },
  {
   "cell_type": "markdown",
   "metadata": {
    "slideshow": {
     "slide_type": "slide"
    }
   },
   "source": [
    "\n",
    "回归的简单例子是当人的身高已知时预测人的体重。 为了做到这一点，我们需要有一个人的身高和体重之间的关系。\n",
    "\n",
    "创建关系的步骤是：\n",
    "\n",
    "- 进行收集高度和相应重量的观测值的样本的实验。\n",
    "\n",
    "- 使用R语言中的lm()函数创建关系模型。\n",
    "\n",
    "- 从创建的模型中找到系数，并使用这些创建数学方程\n",
    "\n",
    "- 获得关系模型的摘要以了解预测中的平均误差。 也称为残差。\n",
    "\n",
    "- 为了预测新人的体重，使用R中的predict()函数"
   ]
  },
  {
   "cell_type": "markdown",
   "metadata": {
    "slideshow": {
     "slide_type": "slide"
    }
   },
   "source": [
    "预测函数：\n",
    "```\n",
    "predict(object, newdata)\n",
    "```\n",
    "\n",
    "以下是所使用的参数的描述\n",
    "\n",
    "- object是已使用lm()函数创建的公式。\n",
    "\n",
    "- newdata是包含预测变量的新值的向量。"
   ]
  },
  {
   "cell_type": "code",
   "execution_count": 3,
   "metadata": {
    "scrolled": true,
    "slideshow": {
     "slide_type": "slide"
    }
   },
   "outputs": [
    {
     "data": {
      "image/png": "[encoded data removed]",
      "text/plain": [
       "plot without title"
      ]
     },
     "metadata": {},
     "output_type": "display_data"
    }
   ],
   "source": [
    "x <- c(151, 174, 138, 186, 128, 136, 179, 163, 152, 131)\n",
    "y <- c(63, 81, 56, 91, 47, 57, 76, 72, 62, 48)\n",
    "\n",
    "plot(x,y)"
   ]
  },
  {
   "cell_type": "code",
   "execution_count": 4,
   "metadata": {
    "scrolled": true,
    "slideshow": {
     "slide_type": "slide"
    }
   },
   "outputs": [
    {
     "name": "stdout",
     "output_type": "stream",
     "text": [
      "\n",
      "Call:\n",
      "lm(formula = y ~ x)\n",
      "\n",
      "Residuals:\n",
      "    Min      1Q  Median      3Q     Max \n",
      "-6.3002 -1.6629  0.0412  1.8944  3.9775 \n",
      "\n",
      "Coefficients:\n",
      "             Estimate Std. Error t value Pr(>|t|)    \n",
      "(Intercept) -38.45509    8.04901  -4.778  0.00139 ** \n",
      "x             0.67461    0.05191  12.997 1.16e-06 ***\n",
      "---\n",
      "Signif. codes:  0 '***' 0.001 '**' 0.01 '*' 0.05 '.' 0.1 ' ' 1\n",
      "\n",
      "Residual standard error: 3.253 on 8 degrees of freedom\n",
      "Multiple R-squared:  0.9548,\tAdjusted R-squared:  0.9491 \n",
      "F-statistic: 168.9 on 1 and 8 DF,  p-value: 1.164e-06\n",
      "\n"
     ]
    }
   ],
   "source": [
    "# Apply the lm() function.\n",
    "relation <- lm(y~x)\n",
    "\n",
    "print(summary(relation))"
   ]
  },
  {
   "cell_type": "code",
   "execution_count": 5,
   "metadata": {
    "slideshow": {
     "slide_type": "slide"
    }
   },
   "outputs": [
    {
     "name": "stdout",
     "output_type": "stream",
     "text": [
      "       1 \n",
      "76.22869 \n"
     ]
    }
   ],
   "source": [
    "# The predictor vector.\n",
    "x <- c(151, 174, 138, 186, 128, 136, 179, 163, 152, 131)\n",
    "\n",
    "# The resposne vector.\n",
    "y <- c(63, 81, 56, 91, 47, 57, 76, 72, 62, 48)\n",
    "\n",
    "# Apply the lm() function.\n",
    "relation <- lm(y~x)\n",
    "\n",
    "# Find weight of a person with height 170.\n",
    "a <- data.frame(x = 170)\n",
    "result <-  predict(relation,a)\n",
    "print(result)"
   ]
  },
  {
   "cell_type": "code",
   "execution_count": 6,
   "metadata": {
    "scrolled": true,
    "slideshow": {
     "slide_type": "slide"
    }
   },
   "outputs": [
    {
     "data": {
      "image/png": "[encoded data removed]",
      "text/plain": [
       "Plot with title \"Height & Weight Regression\""
      ]
     },
     "metadata": {},
     "output_type": "display_data"
    }
   ],
   "source": [
    "# Create the predictor and response variable.\n",
    "x <- c(151, 174, 138, 186, 128, 136, 179, 163, 152, 131)\n",
    "y <- c(63, 81, 56, 91, 47, 57, 76, 72, 62, 48)\n",
    "relation <- lm(y~x)\n",
    "\n",
    "# Plot the chart.\n",
    "plot(y,x,col = \"blue\",main = \"Height & Weight Regression\",\n",
    "abline(lm(x~y)),cex = 1.3,pch = 16,xlab = \"Weight in Kg\",ylab = \"Height in cm\")\n"
   ]
  },
  {
   "cell_type": "markdown",
   "metadata": {
    "slideshow": {
     "slide_type": "slide"
    }
   },
   "source": [
    "### 模拟\n",
    "\n",
    "在统计分析中，随机模拟是统计研究的重要方法， 另外许多现代统计计算方法（如MCMC）也是基于随机模拟的。 R中提供了多种不同概率分布的随机数函数， 可以批量地产生随机数。 一些R扩展包利用了随机模拟方法，如boot包进行bootstrap估计。主要讲：\n",
    "\n",
    "- 随机数\n",
    "- 随机抽样\n",
    "- 随机模拟"
   ]
  },
  {
   "cell_type": "markdown",
   "metadata": {
    "slideshow": {
     "slide_type": "slide"
    }
   },
   "source": [
    "所谓随机数，实际是“伪随机数”， 是从一组起始值（称为种子）， 按照某种递推算法向前递推得到的。 所以，从同一种子出发，得到的随机数序列是相同的。\n",
    "\n",
    "为了得到可重现的结果， 随机模拟应该从固定不变的种子开始模拟。 用set.seed(k)指定一个编号为k的种子， 这样每次从编号k种子运行相同的模拟程序可以得到相同的结果。\n",
    "\n",
    "R提供了多种分布的随机数函数，如runif(n)产生n个标准均匀分布随机数， rnorm(n)产生n个标准正态分布随机数。\n"
   ]
  },
  {
   "cell_type": "code",
   "execution_count": 7,
   "metadata": {
    "slideshow": {
     "slide_type": "slide"
    }
   },
   "outputs": [
    {
     "data": {
      "text/html": [
       "<ol class=list-inline>\n",
       "\t<li>0.86</li>\n",
       "\t<li>0.93</li>\n",
       "\t<li>0.67</li>\n",
       "\t<li>0</li>\n",
       "\t<li>0.06</li>\n",
       "</ol>\n"
      ],
      "text/latex": [
       "\\begin{enumerate*}\n",
       "\\item 0.86\n",
       "\\item 0.93\n",
       "\\item 0.67\n",
       "\\item 0\n",
       "\\item 0.06\n",
       "\\end{enumerate*}\n"
      ],
      "text/markdown": [
       "1. 0.86\n",
       "2. 0.93\n",
       "3. 0.67\n",
       "4. 0\n",
       "5. 0.06\n",
       "\n",
       "\n"
      ],
      "text/plain": [
       "[1] 0.86 0.93 0.67 0.00 0.06"
      ]
     },
     "metadata": {},
     "output_type": "display_data"
    },
    {
     "data": {
      "text/html": [
       "<ol class=list-inline>\n",
       "\t<li>1.61</li>\n",
       "\t<li>0.64</li>\n",
       "\t<li>-1.34</li>\n",
       "\t<li>0.04</li>\n",
       "\t<li>-0.36</li>\n",
       "</ol>\n"
      ],
      "text/latex": [
       "\\begin{enumerate*}\n",
       "\\item 1.61\n",
       "\\item 0.64\n",
       "\\item -1.34\n",
       "\\item 0.04\n",
       "\\item -0.36\n",
       "\\end{enumerate*}\n"
      ],
      "text/markdown": [
       "1. 1.61\n",
       "2. 0.64\n",
       "3. -1.34\n",
       "4. 0.04\n",
       "5. -0.36\n",
       "\n",
       "\n"
      ],
      "text/plain": [
       "[1]  1.61  0.64 -1.34  0.04 -0.36"
      ]
     },
     "metadata": {},
     "output_type": "display_data"
    }
   ],
   "source": [
    "round(runif(5), 2)\n",
    "\n",
    "round(rnorm(5), 2)"
   ]
  },
  {
   "cell_type": "markdown",
   "metadata": {
    "slideshow": {
     "slide_type": "slide"
    }
   },
   "source": [
    "用R中的随机抽样函数，可以模拟统计中的抽样过程，分为：\n",
    "\n",
    "- 抽样，`sample()`函数\n",
    "- Bootstrap方法\n"
   ]
  },
  {
   "cell_type": "code",
   "execution_count": 8,
   "metadata": {
    "slideshow": {
     "slide_type": "slide"
    }
   },
   "outputs": [
    {
     "data": {
      "text/html": [
       "<ol class=list-inline>\n",
       "\t<li>'正面'</li>\n",
       "\t<li>'正面'</li>\n",
       "\t<li>'正面'</li>\n",
       "\t<li>'正面'</li>\n",
       "\t<li>'正面'</li>\n",
       "\t<li>'反面'</li>\n",
       "\t<li>'正面'</li>\n",
       "\t<li>'正面'</li>\n",
       "\t<li>'反面'</li>\n",
       "\t<li>'正面'</li>\n",
       "</ol>\n"
      ],
      "text/latex": [
       "\\begin{enumerate*}\n",
       "\\item '正面'\n",
       "\\item '正面'\n",
       "\\item '正面'\n",
       "\\item '正面'\n",
       "\\item '正面'\n",
       "\\item '反面'\n",
       "\\item '正面'\n",
       "\\item '正面'\n",
       "\\item '反面'\n",
       "\\item '正面'\n",
       "\\end{enumerate*}\n"
      ],
      "text/markdown": [
       "1. '正面'\n",
       "2. '正面'\n",
       "3. '正面'\n",
       "4. '正面'\n",
       "5. '正面'\n",
       "6. '反面'\n",
       "7. '正面'\n",
       "8. '正面'\n",
       "9. '反面'\n",
       "10. '正面'\n",
       "\n",
       "\n"
      ],
      "text/plain": [
       " [1] \"正面\" \"正面\" \"正面\" \"正面\" \"正面\" \"反面\" \"正面\" \"正面\" \"反面\" \"正面\""
      ]
     },
     "metadata": {},
     "output_type": "display_data"
    }
   ],
   "source": [
    "# sample()的选项size指定抽样个数， prob指定每个值的概率， replace=TRUE说明是有放回抽样。\n",
    "\n",
    "sample(c('正面', '反面'), size=10, prob=c(0.7, 0.3), replace=TRUE)"
   ]
  },
  {
   "cell_type": "markdown",
   "metadata": {
    "slideshow": {
     "slide_type": "slide"
    }
   },
   "source": [
    "以下尝试一个随机模拟的例子，考虑如下线性回归模型\n",
    "\n",
    "![](./images/随机模拟示例.png)"
   ]
  },
  {
   "cell_type": "code",
   "execution_count": 9,
   "metadata": {
    "scrolled": true,
    "slideshow": {
     "slide_type": "slide"
    }
   },
   "outputs": [
    {
     "data": {
      "image/png": "[encoded data removed]",
      "text/plain": [
       "plot without title"
      ]
     },
     "metadata": {},
     "output_type": "display_data"
    }
   ],
   "source": [
    "n <- 10; a <- 10; b <- 2\n",
    "x <- sample(1:10, size=n, replace=TRUE)\n",
    "eps <- rnorm(n, 0, 0.5)\n",
    "y <- a + b * x + eps\n",
    "\n",
    "plot(x,y)"
   ]
  },
  {
   "cell_type": "code",
   "execution_count": 10,
   "metadata": {
    "slideshow": {
     "slide_type": "slide"
    }
   },
   "outputs": [
    {
     "data": {
      "text/plain": [
       "\n",
       "Call:\n",
       "lm(formula = y ~ x)\n",
       "\n",
       "Coefficients:\n",
       "(Intercept)            x  \n",
       "     10.532        1.873  \n"
      ]
     },
     "metadata": {},
     "output_type": "display_data"
    }
   ],
   "source": [
    "lm(y ~ x)"
   ]
  },
  {
   "cell_type": "code",
   "execution_count": 11,
   "metadata": {
    "scrolled": true,
    "slideshow": {
     "slide_type": "slide"
    }
   },
   "outputs": [
    {
     "data": {
      "text/plain": [
       "\n",
       "Call:\n",
       "lm(formula = y ~ x)\n",
       "\n",
       "Residuals:\n",
       "    Min      1Q  Median      3Q     Max \n",
       "-0.8721 -0.4788  0.1355  0.3732  0.7747 \n",
       "\n",
       "Coefficients:\n",
       "            Estimate Std. Error t value Pr(>|t|)    \n",
       "(Intercept)  10.5316     0.4251   24.78 7.53e-09 ***\n",
       "x             1.8732     0.1040   18.01 9.27e-08 ***\n",
       "---\n",
       "Signif. codes:  0 '***' 0.001 '**' 0.01 '*' 0.05 '.' 0.1 ' ' 1\n",
       "\n",
       "Residual standard error: 0.5707 on 8 degrees of freedom\n",
       "Multiple R-squared:  0.9759,\tAdjusted R-squared:  0.9729 \n",
       "F-statistic: 324.3 on 1 and 8 DF,  p-value: 9.272e-08\n"
      ]
     },
     "metadata": {},
     "output_type": "display_data"
    }
   ],
   "source": [
    "summary(lm(y ~ x)) # 返回一个矩阵， 包括a,b的估计值、标准误差、t检验统计量、检验p值"
   ]
  },
  {
   "cell_type": "code",
   "execution_count": 12,
   "metadata": {
    "slideshow": {
     "slide_type": "slide"
    }
   },
   "outputs": [
    {
     "data": {
      "text/html": [
       "<ol class=list-inline>\n",
       "\t<li>10.5315610858131</li>\n",
       "\t<li>1.87319395537478</li>\n",
       "\t<li>0.425055723167932</li>\n",
       "\t<li>0.10401300235332</li>\n",
       "</ol>\n"
      ],
      "text/latex": [
       "\\begin{enumerate*}\n",
       "\\item 10.5315610858131\n",
       "\\item 1.87319395537478\n",
       "\\item 0.425055723167932\n",
       "\\item 0.10401300235332\n",
       "\\end{enumerate*}\n"
      ],
      "text/markdown": [
       "1. 10.5315610858131\n",
       "2. 1.87319395537478\n",
       "3. 0.425055723167932\n",
       "4. 0.10401300235332\n",
       "\n",
       "\n"
      ],
      "text/plain": [
       "[1] 10.5315611  1.8731940  0.4250557  0.1040130"
      ]
     },
     "metadata": {},
     "output_type": "display_data"
    }
   ],
   "source": [
    "c(summary(lm(y ~ x))$coefficients[,1:2]) # 相应的估计值以及标准差"
   ]
  },
  {
   "cell_type": "markdown",
   "metadata": {
    "slideshow": {
     "slide_type": "slide"
    }
   },
   "source": [
    "用replicate(, 复合语句)执行多次模拟， 返回向量或矩阵结果， 返回矩阵时，每列是一次模拟的结果。 下面是线性回归整个模拟程序，写成了一个函数。"
   ]
  },
  {
   "cell_type": "code",
   "execution_count": 13,
   "metadata": {
    "slideshow": {
     "slide_type": "slide"
    }
   },
   "outputs": [
    {
     "name": "stdout",
     "output_type": "stream",
     "text": [
      "1000 次模拟的平均值:\n",
      "         a          b       SE.a       SE.b \n",
      "9.99624063 1.99889264 0.36333861 0.05948963 \n",
      "1000 次模拟的标准差:\n",
      "         a          b       SE.a       SE.b \n",
      "0.39281551 0.06369336 0.12802849 0.01945043 \n"
     ]
    }
   ],
   "source": [
    "reg.sim <- function(\n",
    "  a=10, b=2, sigma=0.5, \n",
    "  n=10, B=1000){\n",
    "  set.seed(1)\n",
    "  resm <- replicate(B, {\n",
    "      x <- sample(1:10, size=n, replace=TRUE)\n",
    "      eps <- rnorm(n, 0, 0.5)\n",
    "      y <- a + b * x + eps\n",
    "      c(summary(lm(y ~ x))$coefficients[,1:2])\n",
    "  })\n",
    "  resm <- t(resm)\n",
    "  colnames(resm) <- c('a', 'b', 'SE.a', 'SE.b')\n",
    "  cat(B, '次模拟的平均值:\\n')\n",
    "  print( apply(resm, 2, mean) )\n",
    "  cat(B, '次模拟的标准差:\\n')\n",
    "  print( apply(resm, 2, sd) )\n",
    "}\n",
    "\n",
    "set.seed(1)\n",
    "reg.sim()"
   ]
  }
 ],
 "metadata": {
  "celltoolbar": "Slideshow",
  "kernelspec": {
   "display_name": "R",
   "language": "R",
   "name": "ir"
  },
  "language_info": {
   "codemirror_mode": "r",
   "file_extension": ".r",
   "mimetype": "text/x-r-source",
   "name": "R",
   "pygments_lexer": "r",
   "version": "3.5.3"
  }
 },
 "nbformat": 4,
 "nbformat_minor": 2
}
