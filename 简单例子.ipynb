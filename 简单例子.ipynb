{
 "cells": [
  {
   "cell_type": "markdown",
   "metadata": {},
   "source": [
    "# 简单例子\n",
    "\n",
    "### 参数检验\n",
    "\n",
    "函数：\n",
    "\n",
    "```\n",
    "t.test(x,y=NULL,\n",
    "\n",
    "    alternative=c(\"two.sided\",\"less\",\"greater\"),\n",
    "\n",
    "    mu=0,paired=FALSE,var.equal=FALSE,\n",
    "\n",
    "    conf.level=0.95)\n",
    "\n",
    "```\n",
    "\n",
    "例子：\n",
    "某种原件的寿命X（以小时计）服从正态分布N（μ, σ)其中μ, σ2均未知。现测得16只元件的寿命如下：\n",
    "\n",
    "                 159 280 101 212 224 379 179 264\n",
    "                  222 362 168 250 149 260 485 170\n",
    "\n",
    "问是否有理由认为元件的平均寿命大于255小时？"
   ]
  },
  {
   "cell_type": "code",
   "execution_count": 2,
   "metadata": {
    "collapsed": false
   },
   "outputs": [
    {
     "data": {
      "text/plain": [
       "\n",
       "\tOne Sample t-test\n",
       "\n",
       "data:  X\n",
       "t = 0.66852, df = 15, p-value = 0.257\n",
       "alternative hypothesis: true mean is greater than 225\n",
       "95 percent confidence interval:\n",
       " 198.2321      Inf\n",
       "sample estimates:\n",
       "mean of x \n",
       "    241.5 \n"
      ]
     },
     "metadata": {},
     "output_type": "display_data"
    }
   ],
   "source": [
    "X<-c(159, 280, 101, 212, 224, 379, 179, 264,\n",
    "        222, 362, 168, 250, 149, 260, 485, 170)\n",
    "t.test(X,alternative = \"greater\",mu=225)"
   ]
  },
  {
   "cell_type": "markdown",
   "metadata": {},
   "source": [
    "### 回归分析\n",
    "\n",
    "线性回归函数：\n",
    "\n",
    "```\n",
    "lm(formula, data, subset, weights, na.action,\n",
    "\n",
    "  method = \"qr\", model = TRUE, x = FALSE, y = FALSE, qr = TRUE,\n",
    "\n",
    "  singular.ok = TRUE, contrasts = NULL, offset, ...)\n",
    "```\n",
    "以下是所使用的参数的说明\n",
    "\n",
    "- 公式是表示x和y之间的关系的符号。\n",
    "\n",
    "- 数据是应用公式的向量。\n",
    "\n",
    "\n",
    "预测函数：\n",
    "```\n",
    "predict(object, newdata)\n",
    "```\n",
    "\n",
    "以下是所使用的参数的描述\n",
    "\n",
    "- object是已使用lm()函数创建的公式。\n",
    "\n",
    "- newdata是包含预测变量的新值的向量。\n",
    "\n",
    "\n",
    "建立回归的步骤\n",
    "\n",
    "回归的简单例子是当人的身高已知时预测人的体重。 为了做到这一点，我们需要有一个人的身高和体重之间的关系。\n",
    "\n",
    "创建关系的步骤是：\n",
    "\n",
    "- 进行收集高度和相应重量的观测值的样本的实验。\n",
    "\n",
    "- 使用R语言中的lm()函数创建关系模型。\n",
    "\n",
    "- 从创建的模型中找到系数，并使用这些创建数学方程\n",
    "\n",
    "- 获得关系模型的摘要以了解预测中的平均误差。 也称为残差。\n",
    "\n",
    "- 为了预测新人的体重，使用R中的predict()函数"
   ]
  },
  {
   "cell_type": "code",
   "execution_count": 6,
   "metadata": {
    "collapsed": false
   },
   "outputs": [
    {
     "data": {
      "image/png": "[encoded data removed]",
      "text/plain": [
       "plot without title"
      ]
     },
     "metadata": {},
     "output_type": "display_data"
    }
   ],
   "source": [
    "x <- c(151, 174, 138, 186, 128, 136, 179, 163, 152, 131)\n",
    "y <- c(63, 81, 56, 91, 47, 57, 76, 72, 62, 48)\n",
    "\n",
    "plot(x,y)"
   ]
  },
  {
   "cell_type": "code",
   "execution_count": 7,
   "metadata": {
    "collapsed": false
   },
   "outputs": [
    {
     "name": "stdout",
     "output_type": "stream",
     "text": [
      "\n",
      "Call:\n",
      "lm(formula = y ~ x)\n",
      "\n",
      "Residuals:\n",
      "    Min      1Q  Median      3Q     Max \n",
      "-6.3002 -1.6629  0.0412  1.8944  3.9775 \n",
      "\n",
      "Coefficients:\n",
      "             Estimate Std. Error t value Pr(>|t|)    \n",
      "(Intercept) -38.45509    8.04901  -4.778  0.00139 ** \n",
      "x             0.67461    0.05191  12.997 1.16e-06 ***\n",
      "---\n",
      "Signif. codes:  0 '***' 0.001 '**' 0.01 '*' 0.05 '.' 0.1 ' ' 1\n",
      "\n",
      "Residual standard error: 3.253 on 8 degrees of freedom\n",
      "Multiple R-squared:  0.9548,\tAdjusted R-squared:  0.9491 \n",
      "F-statistic: 168.9 on 1 and 8 DF,  p-value: 1.164e-06\n",
      "\n"
     ]
    }
   ],
   "source": [
    "# Apply the lm() function.\n",
    "relation <- lm(y~x)\n",
    "\n",
    "print(summary(relation))"
   ]
  },
  {
   "cell_type": "code",
   "execution_count": 8,
   "metadata": {
    "collapsed": false
   },
   "outputs": [
    {
     "name": "stdout",
     "output_type": "stream",
     "text": [
      "       1 \n",
      "76.22869 \n"
     ]
    }
   ],
   "source": [
    "# The predictor vector.\n",
    "x <- c(151, 174, 138, 186, 128, 136, 179, 163, 152, 131)\n",
    "\n",
    "# The resposne vector.\n",
    "y <- c(63, 81, 56, 91, 47, 57, 76, 72, 62, 48)\n",
    "\n",
    "# Apply the lm() function.\n",
    "relation <- lm(y~x)\n",
    "\n",
    "# Find weight of a person with height 170.\n",
    "a <- data.frame(x = 170)\n",
    "result <-  predict(relation,a)\n",
    "print(result)"
   ]
  },
  {
   "cell_type": "code",
   "execution_count": 9,
   "metadata": {
    "collapsed": false
   },
   "outputs": [
    {
     "data": {
      "image/png": "[encoded data removed]",
      "text/plain": [
       "Plot with title \"Height & Weight Regression\""
      ]
     },
     "metadata": {},
     "output_type": "display_data"
    }
   ],
   "source": [
    "# Create the predictor and response variable.\n",
    "x <- c(151, 174, 138, 186, 128, 136, 179, 163, 152, 131)\n",
    "y <- c(63, 81, 56, 91, 47, 57, 76, 72, 62, 48)\n",
    "relation <- lm(y~x)\n",
    "\n",
    "# Plot the chart.\n",
    "plot(y,x,col = \"blue\",main = \"Height & Weight Regression\",\n",
    "abline(lm(x~y)),cex = 1.3,pch = 16,xlab = \"Weight in Kg\",ylab = \"Height in cm\")\n"
   ]
  },
  {
   "cell_type": "code",
   "execution_count": null,
   "metadata": {
    "collapsed": true
   },
   "outputs": [],
   "source": []
  }
 ],
 "metadata": {
  "kernelspec": {
   "display_name": "R",
   "language": "R",
   "name": "ir"
  },
  "language_info": {
   "codemirror_mode": "r",
   "file_extension": ".r",
   "mimetype": "text/x-r-source",
   "name": "R",
   "pygments_lexer": "r",
   "version": "3.5.3"
  }
 },
 "nbformat": 4,
 "nbformat_minor": 2
}
