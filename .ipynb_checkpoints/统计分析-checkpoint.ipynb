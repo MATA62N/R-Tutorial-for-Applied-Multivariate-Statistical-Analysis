{
 "cells": [
  {
   "cell_type": "markdown",
   "metadata": {},
   "source": [
    "### 模拟\n",
    "\n",
    "在统计分析中，除了随机模拟是统计研究的重要方法， 另外许多现代统计计算方法（如MCMC）也是基于随机模拟的。 R中提供了多种不同概率分布的随机数函数， 可以批量地产生随机数。 一些R扩展包利用了随机模拟方法，如boot包进行bootstrap估计。主要讲：\n",
    "\n",
    "- 随机数\n",
    "- 随机抽样\n",
    "- 随机模拟"
   ]
  },
  {
   "cell_type": "markdown",
   "metadata": {},
   "source": [
    "所谓随机数，实际是“伪随机数”， 是从一组起始值（称为种子）， 按照某种递推算法向前递推得到的。 所以，从同一种子出发，得到的随机数序列是相同的。\n",
    "\n",
    "为了得到可重现的结果， 随机模拟应该从固定不变的种子开始模拟。 用set.seed(k)指定一个编号为k的种子， 这样每次从编号k种子运行相同的模拟程序可以得到相同的结果。\n",
    "\n",
    "R提供了多种分布的随机数函数，如runif(n)产生n个标准均匀分布随机数， rnorm(n)产生n个标准正态分布随机数。\n"
   ]
  },
  {
   "cell_type": "code",
   "execution_count": null,
   "metadata": {},
   "outputs": [],
   "source": [
    "round(runif(5), 2)"
   ]
  },
  {
   "cell_type": "code",
   "execution_count": null,
   "metadata": {},
   "outputs": [],
   "source": [
    "round(rnorm(5), 2)"
   ]
  },
  {
   "cell_type": "markdown",
   "metadata": {},
   "source": [
    "用R中的随机抽样函数，可以模拟统计中的抽样过程，分为：\n",
    "\n",
    "- 抽样，`sample()`函数\n",
    "- Bootstrap方法\n"
   ]
  },
  {
   "cell_type": "code",
   "execution_count": null,
   "metadata": {},
   "outputs": [],
   "source": [
    "# sample()的选项size指定抽样个数， prob指定每个值的概率， replace=TRUE说明是有放回抽样。\n",
    "\n",
    "sample(c('正面', '反面'), size=10, prob=c(0.7, 0.3), replace=TRUE)"
   ]
  },
  {
   "cell_type": "markdown",
   "metadata": {},
   "source": []
  },
  {
   "cell_type": "markdown",
   "metadata": {},
   "source": [
    "以下尝试一个随机模拟的例子，考虑如下线性回归模型\n",
    "\n",
    "![](./images/随机模拟示例.png)"
   ]
  },
  {
   "cell_type": "code",
   "execution_count": null,
   "metadata": {},
   "outputs": [],
   "source": [
    "n <- 10; a <- 10; b <- 2\n",
    "x <- sample(1:10, size=n, replace=TRUE)\n",
    "eps <- rnorm(n, 0, 0.5)\n",
    "y <- a + b * x + eps\n",
    "\n",
    "plot(x,y)"
   ]
  },
  {
   "cell_type": "code",
   "execution_count": null,
   "metadata": {},
   "outputs": [],
   "source": [
    "lm(y ~ x)"
   ]
  },
  {
   "cell_type": "code",
   "execution_count": null,
   "metadata": {},
   "outputs": [],
   "source": [
    "summary(lm(y ~ x)) # 返回一个矩阵， 包括a,b的估计值、标准误差、t检验统计量、检验p值"
   ]
  },
  {
   "cell_type": "code",
   "execution_count": null,
   "metadata": {},
   "outputs": [],
   "source": [
    "c(summary(lm(y ~ x))$coefficients[,1:2]) # 相应的估计值以及标准差"
   ]
  },
  {
   "cell_type": "markdown",
   "metadata": {},
   "source": [
    "用replicate(, 复合语句)执行多次模拟， 返回向量或矩阵结果， 返回矩阵时，每列是一次模拟的结果。 下面是线性回归整个模拟程序，写成了一个函数。"
   ]
  },
  {
   "cell_type": "code",
   "execution_count": null,
   "metadata": {},
   "outputs": [],
   "source": [
    "reg.sim <- function(\n",
    "  a=10, b=2, sigma=0.5, \n",
    "  n=10, B=1000){\n",
    "  set.seed(1)\n",
    "  resm <- replicate(B, {\n",
    "      x <- sample(1:10, size=n, replace=TRUE)\n",
    "      eps <- rnorm(n, 0, 0.5)\n",
    "      y <- a + b * x + eps\n",
    "      c(summary(lm(y ~ x))$coefficients[,1:2])\n",
    "  })\n",
    "  resm <- t(resm)\n",
    "  colnames(resm) <- c('a', 'b', 'SE.a', 'SE.b')\n",
    "  cat(B, '次模拟的平均值:\\n')\n",
    "  print( apply(resm, 2, mean) )\n",
    "  cat(B, '次模拟的标准差:\\n')\n",
    "  print( apply(resm, 2, sd) )\n",
    "}\n",
    "\n",
    "set.seed(1)\n",
    "reg.sim()"
   ]
  }
 ],
 "metadata": {
  "celltoolbar": "Slideshow",
  "kernelspec": {
   "display_name": "R",
   "language": "R",
   "name": "ir"
  },
  "language_info": {
   "codemirror_mode": "r",
   "file_extension": ".r",
   "mimetype": "text/x-r-source",
   "name": "R",
   "pygments_lexer": "r",
   "version": "3.5.3"
  }
 },
 "nbformat": 4,
 "nbformat_minor": 2
}
