{
 "cells": [
  {
   "cell_type": "markdown",
   "metadata": {
    "slideshow": {
     "slide_type": "slide"
    }
   },
   "source": [
    "# 数据分析"
   ]
  },
  {
   "cell_type": "markdown",
   "metadata": {
    "slideshow": {
     "slide_type": "slide"
    }
   },
   "source": [
    "###  读写文件\n",
    "\n",
    "应用统计学是建立在数据的基础上，因此常常和数据打交道，一般获取数据的方法有：\n",
    "\n",
    "- 手动输入\n",
    "- 读写数据文件\n",
    "\n",
    "一般情况下变量与数据量很多，手动输入数据来建立数据集时不可取的，需要读取数据文件，其来源包括：\n",
    "\n",
    "- R的内置数据包dataset，可以通过`data()` 函数查看或者加载这些数据集。\n",
    "- 外部录入数据，如电子表格、数据库、文本文件等，需要掌握R语言录入数据的方法。\n",
    "\n",
    "Excel是目前数据管理和编辑十分方便的软件，在此仅讲解R语言与Excel表格打交道，实际还可以读取其余统计软件的数据文件、数据库数据等。"
   ]
  },
  {
   "cell_type": "markdown",
   "metadata": {
    "slideshow": {
     "slide_type": "slide"
    }
   },
   "source": [
    "读取Excel文档的方法有：\n",
    "\n",
    "- 保存为CSV文本文件，利用 `read.csv()`读取文件， `write.csv()`输出文件\n",
    "- 借助于剪贴板，利用`read.table(\"clipboard\", header=T)`读取，`write.table(..., file=\"clipboard\")`输出\n",
    "- 利用RODBC程序包直接读取，该包使用开放数据库连接（Open Database Connectivity,ODBC）驱动作为一种连接到数据库管理系统（DBMS）的方法，要求用户必须先安装和配置必要的驱动程序，然后才能在R中使用它。在不同平台和很多有种DBMS都有可用的ODBC驱动程序。它们甚至还能针对根本不是数据库的数据存储格式，如CSV或XLS/XLSX。\n"
   ]
  },
  {
   "cell_type": "code",
   "execution_count": 21,
   "metadata": {
    "slideshow": {
     "slide_type": "slide"
    }
   },
   "outputs": [
    {
     "name": "stdout",
     "output_type": "stream",
     "text": [
      "   序号  出生日期 发病日期\n",
      "1     1  1941/3/8 2007/1/1\n",
      "2     2 1972/1/24 2007/1/1\n",
      "3     3  1932/6/1 2007/1/1\n",
      "4     4 1947/5/17 2007/1/1\n",
      "5     5 1943/3/10 2007/1/1\n",
      "6     6  1940/1/8 2007/1/1\n",
      "7     7  1947/8/5 2007/1/1\n",
      "8     8 2005/4/14 2007/1/1\n",
      "9     9 1961/6/23 2007/1/2\n",
      "10   10 1949/1/10 2007/1/2\n"
     ]
    },
    {
     "data": {
      "text/html": [
       "'data.frame'"
      ],
      "text/latex": [
       "'data.frame'"
      ],
      "text/markdown": [
       "'data.frame'"
      ],
      "text/plain": [
       "[1] \"data.frame\""
      ]
     },
     "metadata": {},
     "output_type": "display_data"
    }
   ],
   "source": [
    "d.dates <- read.csv('./materials/dates.csv')\n",
    "print(d.dates)\n",
    "class(d.dates)\n",
    "\n",
    "write.csv(d.dates, file='./materials/dates2.csv',row.names=FALSE)"
   ]
  },
  {
   "cell_type": "code",
   "execution_count": 14,
   "metadata": {
    "slideshow": {
     "slide_type": "slide"
    }
   },
   "outputs": [
    {
     "name": "stdout",
     "output_type": "stream",
     "text": [
      "   序号  出生日期 发病日期\n",
      "1     1  1941/3/8 2007/1/1\n",
      "2     2 1972/1/24 2007/1/1\n",
      "3     3  1932/6/1 2007/1/1\n",
      "4     4 1947/5/17 2007/1/1\n",
      "5     5 1943/3/10 2007/1/1\n",
      "6     6  1940/1/8 2007/1/1\n",
      "7     7  1947/8/5 2007/1/1\n",
      "8     8 2005/4/14 2007/1/1\n",
      "9     9 1961/6/23 2007/1/2\n",
      "10   10 1949/1/10 2007/1/2\n"
     ]
    },
    {
     "data": {
      "text/html": [
       "'data.frame'"
      ],
      "text/latex": [
       "'data.frame'"
      ],
      "text/markdown": [
       "'data.frame'"
      ],
      "text/plain": [
       "[1] \"data.frame\""
      ]
     },
     "metadata": {},
     "output_type": "display_data"
    }
   ],
   "source": [
    "d.dates2<-read.table(\"clipboard\", header=T)\n",
    "print(d.dates2)\n",
    "class(d.dates2)\n",
    "\n",
    "write.table(d.dates2[1:5,], \"clipboard\", sep = \"\\t\", col.names = NA)"
   ]
  },
  {
   "cell_type": "code",
   "execution_count": 9,
   "metadata": {},
   "outputs": [
    {
     "name": "stdout",
     "output_type": "stream",
     "text": [
      "package 'RODBC' successfully unpacked and MD5 sums checked\n",
      "\n",
      "The downloaded binary packages are in\n",
      "\tC:\\Users\\lixinpeng\\AppData\\Local\\Temp\\RtmpkR9uNm\\downloaded_packages\n"
     ]
    }
   ],
   "source": [
    "install.packages(\"RODBC\")"
   ]
  },
  {
   "cell_type": "code",
   "execution_count": 26,
   "metadata": {},
   "outputs": [
    {
     "name": "stderr",
     "output_type": "stream",
     "text": [
      "Warning message in odbcDriverConnect(con, tabQuote = c(\"[\", \"]\"), ...):\n",
      "\"[RODBC] ERROR: state IM002, code 0, message [Microsoft][ODBC 驱动程序管理器] 未发现数据源名称并且未指定默认驱动程序\"Warning message in odbcDriverConnect(con, tabQuote = c(\"[\", \"]\"), ...):\n",
      "\"ODBC connection failed\""
     ]
    },
    {
     "ename": "ERROR",
     "evalue": "Error in sqlFetch(con, sqtable = \"序号\"): first argument is not an open RODBC channel\n",
     "output_type": "error",
     "traceback": [
      "Error in sqlFetch(con, sqtable = \"序号\"): first argument is not an open RODBC channel\nTraceback:\n",
      "1. sqlFetch(con, sqtable = \"序号\")",
      "2. stop(\"first argument is not an open RODBC channel\")"
     ]
    }
   ],
   "source": [
    "library(RODBC)\n",
    "\n",
    "# 读取\n",
    "con <- odbcConnectExcel('./materials/dates.csv', readOnly=FALSE)\n",
    "d.dates3<-sqlFetch(con, sqtable=\"序号\")\n",
    "close(con)\n",
    "print(d.dates3)\n",
    "\n",
    "# 保存\n",
    "con <- odbcConnectExcel('./materials/dates.csv', readOnly=FALSE)\n",
    "res <- sqlSave(con, d.dates3, tablename=\"序号\", rownames=F, colnames=F, safer=T)\n",
    "close(con)\n"
   ]
  },
  {
   "cell_type": "markdown",
   "metadata": {
    "slideshow": {
     "slide_type": "slide"
    }
   },
   "source": [
    "在读取数据之后，对数据进行预览或者检查。常用的几个函数有：\n",
    "\n",
    "- `head()` 展示前几个数据\n",
    "- `tail()` 展示后几个数据\n",
    "- `summary()` 获取描述性统计量\n",
    "- `table()` 统计频次\n",
    "- `str()` 以简洁的方式显示对象的数据结构及内容"
   ]
  },
  {
   "cell_type": "code",
   "execution_count": 12,
   "metadata": {
    "scrolled": true
   },
   "outputs": [
    {
     "name": "stdout",
     "output_type": "stream",
     "text": [
      "[1] TRUE\n",
      "[1] 3\n",
      "[1] 10\n",
      "1904 bytes\n"
     ]
    }
   ],
   "source": [
    "print(is.data.frame(d.dates))\n",
    "print(ncol(d.dates))\n",
    "print(nrow(d.dates))\n",
    "print(object.size(d.dates))"
   ]
  },
  {
   "cell_type": "code",
   "execution_count": 7,
   "metadata": {},
   "outputs": [
    {
     "data": {
      "text/html": [
       "<table>\n",
       "<thead><tr><th scope=col>序号</th><th scope=col>出生日期</th><th scope=col>发病日期</th></tr></thead>\n",
       "<tbody>\n",
       "\t<tr><td>1        </td><td>1941/3/8 </td><td>2007/1/1 </td></tr>\n",
       "\t<tr><td>2        </td><td>1972/1/24</td><td>2007/1/1 </td></tr>\n",
       "\t<tr><td>3        </td><td>1932/6/1 </td><td>2007/1/1 </td></tr>\n",
       "\t<tr><td>4        </td><td>1947/5/17</td><td>2007/1/1 </td></tr>\n",
       "\t<tr><td>5        </td><td>1943/3/10</td><td>2007/1/1 </td></tr>\n",
       "\t<tr><td>6        </td><td>1940/1/8 </td><td>2007/1/1 </td></tr>\n",
       "</tbody>\n",
       "</table>\n"
      ],
      "text/latex": [
       "\\begin{tabular}{r|lll}\n",
       " 序号 & 出生日期 & 发病日期\\\\\n",
       "\\hline\n",
       "\t 1         & 1941/3/8  & 2007/1/1 \\\\\n",
       "\t 2         & 1972/1/24 & 2007/1/1 \\\\\n",
       "\t 3         & 1932/6/1  & 2007/1/1 \\\\\n",
       "\t 4         & 1947/5/17 & 2007/1/1 \\\\\n",
       "\t 5         & 1943/3/10 & 2007/1/1 \\\\\n",
       "\t 6         & 1940/1/8  & 2007/1/1 \\\\\n",
       "\\end{tabular}\n"
      ],
      "text/markdown": [
       "\n",
       "| 序号 | 出生日期 | 发病日期 |\n",
       "|---|---|---|\n",
       "| 1         | 1941/3/8  | 2007/1/1  |\n",
       "| 2         | 1972/1/24 | 2007/1/1  |\n",
       "| 3         | 1932/6/1  | 2007/1/1  |\n",
       "| 4         | 1947/5/17 | 2007/1/1  |\n",
       "| 5         | 1943/3/10 | 2007/1/1  |\n",
       "| 6         | 1940/1/8  | 2007/1/1  |\n",
       "\n"
      ],
      "text/plain": [
       "  序号 出生日期  发病日期\n",
       "1 1    1941/3/8  2007/1/1\n",
       "2 2    1972/1/24 2007/1/1\n",
       "3 3    1932/6/1  2007/1/1\n",
       "4 4    1947/5/17 2007/1/1\n",
       "5 5    1943/3/10 2007/1/1\n",
       "6 6    1940/1/8  2007/1/1"
      ]
     },
     "metadata": {},
     "output_type": "display_data"
    }
   ],
   "source": [
    "head(d.dates)"
   ]
  },
  {
   "cell_type": "code",
   "execution_count": 8,
   "metadata": {},
   "outputs": [
    {
     "data": {
      "text/html": [
       "<table>\n",
       "<thead><tr><th></th><th scope=col>序号</th><th scope=col>出生日期</th><th scope=col>发病日期</th></tr></thead>\n",
       "<tbody>\n",
       "\t<tr><th scope=row>5</th><td> 5       </td><td>1943/3/10</td><td>2007/1/1 </td></tr>\n",
       "\t<tr><th scope=row>6</th><td> 6       </td><td>1940/1/8 </td><td>2007/1/1 </td></tr>\n",
       "\t<tr><th scope=row>7</th><td> 7       </td><td>1947/8/5 </td><td>2007/1/1 </td></tr>\n",
       "\t<tr><th scope=row>8</th><td> 8       </td><td>2005/4/14</td><td>2007/1/1 </td></tr>\n",
       "\t<tr><th scope=row>9</th><td> 9       </td><td>1961/6/23</td><td>2007/1/2 </td></tr>\n",
       "\t<tr><th scope=row>10</th><td>10       </td><td>1949/1/10</td><td>2007/1/2 </td></tr>\n",
       "</tbody>\n",
       "</table>\n"
      ],
      "text/latex": [
       "\\begin{tabular}{r|lll}\n",
       "  & 序号 & 出生日期 & 发病日期\\\\\n",
       "\\hline\n",
       "\t5 &  5        & 1943/3/10 & 2007/1/1 \\\\\n",
       "\t6 &  6        & 1940/1/8  & 2007/1/1 \\\\\n",
       "\t7 &  7        & 1947/8/5  & 2007/1/1 \\\\\n",
       "\t8 &  8        & 2005/4/14 & 2007/1/1 \\\\\n",
       "\t9 &  9        & 1961/6/23 & 2007/1/2 \\\\\n",
       "\t10 & 10        & 1949/1/10 & 2007/1/2 \\\\\n",
       "\\end{tabular}\n"
      ],
      "text/markdown": [
       "\n",
       "| <!--/--> | 序号 | 出生日期 | 发病日期 |\n",
       "|---|---|---|---|\n",
       "| 5 |  5        | 1943/3/10 | 2007/1/1  |\n",
       "| 6 |  6        | 1940/1/8  | 2007/1/1  |\n",
       "| 7 |  7        | 1947/8/5  | 2007/1/1  |\n",
       "| 8 |  8        | 2005/4/14 | 2007/1/1  |\n",
       "| 9 |  9        | 1961/6/23 | 2007/1/2  |\n",
       "| 10 | 10        | 1949/1/10 | 2007/1/2  |\n",
       "\n"
      ],
      "text/plain": [
       "   序号 出生日期  发病日期\n",
       "5   5   1943/3/10 2007/1/1\n",
       "6   6   1940/1/8  2007/1/1\n",
       "7   7   1947/8/5  2007/1/1\n",
       "8   8   2005/4/14 2007/1/1\n",
       "9   9   1961/6/23 2007/1/2\n",
       "10 10   1949/1/10 2007/1/2"
      ]
     },
     "metadata": {},
     "output_type": "display_data"
    }
   ],
   "source": [
    "tail(d.dates)"
   ]
  },
  {
   "cell_type": "code",
   "execution_count": 10,
   "metadata": {},
   "outputs": [
    {
     "data": {
      "text/plain": [
       "      序号            出生日期     发病日期\n",
       " Min.   : 1.00   1932/6/1 :1   2007/1/1:8  \n",
       " 1st Qu.: 3.25   1940/1/8 :1   2007/1/2:2  \n",
       " Median : 5.50   1941/3/8 :1               \n",
       " Mean   : 5.50   1943/3/10:1               \n",
       " 3rd Qu.: 7.75   1947/5/17:1               \n",
       " Max.   :10.00   1947/8/5 :1               \n",
       "                 (Other)  :4               "
      ]
     },
     "metadata": {},
     "output_type": "display_data"
    }
   ],
   "source": [
    "summary(d.dates)"
   ]
  },
  {
   "cell_type": "code",
   "execution_count": 17,
   "metadata": {},
   "outputs": [
    {
     "data": {
      "text/plain": [
       "\n",
       "2007/1/1 2007/1/2 \n",
       "       8        2 "
      ]
     },
     "metadata": {},
     "output_type": "display_data"
    }
   ],
   "source": [
    "table(d.dates$发病日期)"
   ]
  },
  {
   "cell_type": "code",
   "execution_count": 19,
   "metadata": {},
   "outputs": [
    {
     "name": "stdout",
     "output_type": "stream",
     "text": [
      "'data.frame':\t10 obs. of  3 variables:\n",
      " $ 序号    : int  1 2 3 4 5 6 7 8 9 10\n",
      " $ 出生日期: Factor w/ 10 levels \"1932/6/1\",\"1940/1/8\",..: 3 9 1 5 4 2 6 10 8 7\n",
      " $ 发病日期: Factor w/ 2 levels \"2007/1/1\",\"2007/1/2\": 1 1 1 1 1 1 1 1 2 2\n"
     ]
    }
   ],
   "source": [
    "str(d.dates)"
   ]
  },
  {
   "cell_type": "markdown",
   "metadata": {},
   "source": [
    "有时我们想修改某些数据并且保存，或者创建出一些数据帧并保存"
   ]
  },
  {
   "cell_type": "code",
   "execution_count": 20,
   "metadata": {
    "collapsed": true
   },
   "outputs": [],
   "source": [
    "\n",
    "df<-data.frame(\n",
    "    Name=c(\"Alice\",\"Becka\",\"James\",\"Jeffrey\",\"John\"),\n",
    "    Sex=c(\"F\",\"F\",\"M\",\"M\",\"M\"),\n",
    "    Age=c(13,13,13,13,12),\n",
    "    Height=c(56.5,65.3,57.3,62.5,59.0),\n",
    "    Weight=c(84.0,98.0,83.0,84.0,99.5)\n",
    "    )\n",
    "\n",
    "write.csv(df,file=\"./materials/foo.csv\")\n"
   ]
  },
  {
   "cell_type": "markdown",
   "metadata": {},
   "source": [
    "### 绘图\n",
    "\n",
    "R语言的前身是S语言，S语言的设计目的就是交互式数据分析、绘图，所以R的绘图功能十分强大，如`lattice`、`ggplot2`。\n",
    "\n",
    "但是此次不去探究前沿的绘图工具，而是选择积累图标类型看看，包括：\n",
    "\n",
    "- plot() 散点图，显示在笛卡尔平面中绘制的许多点\n",
    "- boxplot() 箱线图，是数据集中的数据分布良好的度量\n",
    "- hist() 直方图，表示被存储到范围中的变量的值的频率"
   ]
  },
  {
   "cell_type": "code",
   "execution_count": 22,
   "metadata": {},
   "outputs": [
    {
     "name": "stdout",
     "output_type": "stream",
     "text": [
      "'data.frame':\t50 obs. of  2 variables:\n",
      " $ speed: num  4 4 7 7 8 9 10 10 10 11 ...\n",
      " $ dist : num  2 10 4 22 16 10 18 26 34 17 ...\n"
     ]
    }
   ],
   "source": [
    "data(cars)\n",
    "str(cars)"
   ]
  },
  {
   "cell_type": "code",
   "execution_count": 29,
   "metadata": {},
   "outputs": [
    {
     "data": {
      "image/png": "[encoded data removed]",
      "text/plain": [
       "Plot with title \"My Plot\""
      ]
     },
     "metadata": {},
     "output_type": "display_data"
    }
   ],
   "source": [
    "plot(x = cars$speed, y = cars$dist, xlab = \"Speed\", ylab = \"Stopping Distance\", main = \"My Plot\")"
   ]
  },
  {
   "cell_type": "code",
   "execution_count": 25,
   "metadata": {},
   "outputs": [
    {
     "name": "stdout",
     "output_type": "stream",
     "text": [
      "'data.frame':\t32 obs. of  11 variables:\n",
      " $ mpg : num  21 21 22.8 21.4 18.7 18.1 14.3 24.4 22.8 19.2 ...\n",
      " $ cyl : num  6 6 4 6 8 6 8 4 4 6 ...\n",
      " $ disp: num  160 160 108 258 360 ...\n",
      " $ hp  : num  110 110 93 110 175 105 245 62 95 123 ...\n",
      " $ drat: num  3.9 3.9 3.85 3.08 3.15 2.76 3.21 3.69 3.92 3.92 ...\n",
      " $ wt  : num  2.62 2.88 2.32 3.21 3.44 ...\n",
      " $ qsec: num  16.5 17 18.6 19.4 17 ...\n",
      " $ vs  : num  0 0 1 1 0 1 0 1 1 1 ...\n",
      " $ am  : num  1 1 1 0 0 0 0 0 0 0 ...\n",
      " $ gear: num  4 4 4 3 3 3 3 4 4 4 ...\n",
      " $ carb: num  4 4 1 1 2 1 4 2 2 4 ...\n"
     ]
    }
   ],
   "source": [
    "data(mtcars)\n",
    "str(mtcars)"
   ]
  },
  {
   "cell_type": "code",
   "execution_count": 27,
   "metadata": {},
   "outputs": [
    {
     "data": {
      "image/png": "[encoded data removed]",
      "text/plain": [
       "Plot with title \"Mileage Data\""
      ]
     },
     "metadata": {},
     "output_type": "display_data"
    }
   ],
   "source": [
    "boxplot(mpg ~ cyl, data = mtcars, xlab = \"Number of Cylinders\", ylab = \"Miles Per Gallon\", main = \"Mileage Data\")"
   ]
  },
  {
   "cell_type": "code",
   "execution_count": 32,
   "metadata": {},
   "outputs": [
    {
     "data": {
      "image/png": "[encoded data removed]",
      "text/plain": [
       "Plot with title \"Histogram of v\""
      ]
     },
     "metadata": {},
     "output_type": "display_data"
    }
   ],
   "source": [
    "v <- c(9,13,21,8,36,22,12,41,31,33,19)\n",
    "\n",
    "hist(v,xlab = \"Weight\",col = \"yellow\",border = \"blue\")\n"
   ]
  },
  {
   "cell_type": "markdown",
   "metadata": {},
   "source": [
    "### 模拟\n",
    "\n",
    "随机模拟是统计研究的重要方法， 另外许多现代统计计算方法（如MCMC）也是基于随机模拟的。 R中提供了多种不同概率分布的随机数函数， 可以批量地产生随机数。 一些R扩展包利用了随机模拟方法，如boot包进行bootstrap估计。主要讲：\n",
    "\n",
    "- 随机数\n",
    "- 抽样模拟"
   ]
  },
  {
   "cell_type": "markdown",
   "metadata": {},
   "source": [
    "所谓随机数，实际是“伪随机数”， 是从一组起始值（称为种子）， 按照某种递推算法向前递推得到的。 所以，从同一种子出发，得到的随机数序列是相同的。\n",
    "\n",
    "为了得到可重现的结果， 随机模拟应该从固定不变的种子开始模拟。 用set.seed(k)指定一个编号为k的种子， 这样每次从编号k种子运行相同的模拟程序可以得到相同的结果。\n",
    "\n",
    "R提供了多种分布的随机数函数，如runif(n)产生n个标准均匀分布随机数， rnorm(n)产生n个标准正态分布随机数。\n"
   ]
  },
  {
   "cell_type": "code",
   "execution_count": 34,
   "metadata": {},
   "outputs": [
    {
     "data": {
      "text/html": [
       "<ol class=list-inline>\n",
       "\t<li>0.34</li>\n",
       "\t<li>0.36</li>\n",
       "\t<li>0.94</li>\n",
       "\t<li>0.39</li>\n",
       "\t<li>0.02</li>\n",
       "</ol>\n"
      ],
      "text/latex": [
       "\\begin{enumerate*}\n",
       "\\item 0.34\n",
       "\\item 0.36\n",
       "\\item 0.94\n",
       "\\item 0.39\n",
       "\\item 0.02\n",
       "\\end{enumerate*}\n"
      ],
      "text/markdown": [
       "1. 0.34\n",
       "2. 0.36\n",
       "3. 0.94\n",
       "4. 0.39\n",
       "5. 0.02\n",
       "\n",
       "\n"
      ],
      "text/plain": [
       "[1] 0.34 0.36 0.94 0.39 0.02"
      ]
     },
     "metadata": {},
     "output_type": "display_data"
    }
   ],
   "source": [
    "round(runif(5), 2)"
   ]
  },
  {
   "cell_type": "code",
   "execution_count": 35,
   "metadata": {},
   "outputs": [
    {
     "data": {
      "text/html": [
       "<ol class=list-inline>\n",
       "\t<li>0.3</li>\n",
       "\t<li>0.21</li>\n",
       "\t<li>1.49</li>\n",
       "\t<li>-1.49</li>\n",
       "\t<li>0.12</li>\n",
       "</ol>\n"
      ],
      "text/latex": [
       "\\begin{enumerate*}\n",
       "\\item 0.3\n",
       "\\item 0.21\n",
       "\\item 1.49\n",
       "\\item -1.49\n",
       "\\item 0.12\n",
       "\\end{enumerate*}\n"
      ],
      "text/markdown": [
       "1. 0.3\n",
       "2. 0.21\n",
       "3. 1.49\n",
       "4. -1.49\n",
       "5. 0.12\n",
       "\n",
       "\n"
      ],
      "text/plain": [
       "[1]  0.30  0.21  1.49 -1.49  0.12"
      ]
     },
     "metadata": {},
     "output_type": "display_data"
    }
   ],
   "source": [
    "round(rnorm(5), 2)"
   ]
  },
  {
   "cell_type": "markdown",
   "metadata": {},
   "source": [
    "`sample()` 函数从一个有限集合中无放回或有放回地随机抽取， 产生随机结果。"
   ]
  },
  {
   "cell_type": "code",
   "execution_count": 36,
   "metadata": {},
   "outputs": [
    {
     "data": {
      "text/html": [
       "<ol class=list-inline>\n",
       "\t<li>'正面'</li>\n",
       "\t<li>'正面'</li>\n",
       "\t<li>'反面'</li>\n",
       "\t<li>'正面'</li>\n",
       "\t<li>'正面'</li>\n",
       "\t<li>'正面'</li>\n",
       "\t<li>'正面'</li>\n",
       "\t<li>'正面'</li>\n",
       "\t<li>'正面'</li>\n",
       "\t<li>'正面'</li>\n",
       "</ol>\n"
      ],
      "text/latex": [
       "\\begin{enumerate*}\n",
       "\\item '正面'\n",
       "\\item '正面'\n",
       "\\item '反面'\n",
       "\\item '正面'\n",
       "\\item '正面'\n",
       "\\item '正面'\n",
       "\\item '正面'\n",
       "\\item '正面'\n",
       "\\item '正面'\n",
       "\\item '正面'\n",
       "\\end{enumerate*}\n"
      ],
      "text/markdown": [
       "1. '正面'\n",
       "2. '正面'\n",
       "3. '反面'\n",
       "4. '正面'\n",
       "5. '正面'\n",
       "6. '正面'\n",
       "7. '正面'\n",
       "8. '正面'\n",
       "9. '正面'\n",
       "10. '正面'\n",
       "\n",
       "\n"
      ],
      "text/plain": [
       " [1] \"正面\" \"正面\" \"反面\" \"正面\" \"正面\" \"正面\" \"正面\" \"正面\" \"正面\" \"正面\""
      ]
     },
     "metadata": {},
     "output_type": "display_data"
    }
   ],
   "source": [
    "sample(c('正面', '反面'), size=10, prob=c(0.7, 0.3), replace=TRUE)"
   ]
  },
  {
   "cell_type": "markdown",
   "metadata": {},
   "source": [
    "sample()的选项size指定抽样个数， prob指定每个值的概率， replace=TRUE说明是有放回抽样。"
   ]
  },
  {
   "cell_type": "markdown",
   "metadata": {},
   "source": [
    "以下尝试一个随机模拟的例子，考虑如下线性回归模型\n",
    "\n",
    "![](./images/随机模拟示例.png)"
   ]
  },
  {
   "cell_type": "code",
   "execution_count": 39,
   "metadata": {},
   "outputs": [
    {
     "data": {
      "image/png": "[encoded data removed]",
      "text/plain": [
       "plot without title"
      ]
     },
     "metadata": {},
     "output_type": "display_data"
    }
   ],
   "source": [
    "n <- 10; a <- 10; b <- 2\n",
    "x <- sample(1:10, size=n, replace=TRUE)\n",
    "eps <- rnorm(n, 0, 0.5)\n",
    "y <- a + b * x + eps\n",
    "\n",
    "plot(x,y)"
   ]
  },
  {
   "cell_type": "code",
   "execution_count": 38,
   "metadata": {},
   "outputs": [
    {
     "data": {
      "text/plain": [
       "\n",
       "Call:\n",
       "lm(formula = y ~ x)\n",
       "\n",
       "Coefficients:\n",
       "(Intercept)            x  \n",
       "     10.189        1.943  \n"
      ]
     },
     "metadata": {},
     "output_type": "display_data"
    }
   ],
   "source": [
    "lm(y ~ x)"
   ]
  },
  {
   "cell_type": "code",
   "execution_count": 40,
   "metadata": {},
   "outputs": [
    {
     "data": {
      "text/plain": [
       "\n",
       "Call:\n",
       "lm(formula = y ~ x)\n",
       "\n",
       "Residuals:\n",
       "     Min       1Q   Median       3Q      Max \n",
       "-0.30882 -0.21006 -0.03680  0.09702  0.52330 \n",
       "\n",
       "Coefficients:\n",
       "            Estimate Std. Error t value Pr(>|t|)    \n",
       "(Intercept)  9.56473    0.19661   48.65 3.53e-11 ***\n",
       "x            2.04111    0.03526   57.90 8.80e-12 ***\n",
       "---\n",
       "Signif. codes:  0 '***' 0.001 '**' 0.01 '*' 0.05 '.' 0.1 ' ' 1\n",
       "\n",
       "Residual standard error: 0.2969 on 8 degrees of freedom\n",
       "Multiple R-squared:  0.9976,\tAdjusted R-squared:  0.9973 \n",
       "F-statistic:  3352 on 1 and 8 DF,  p-value: 8.798e-12\n"
      ]
     },
     "metadata": {},
     "output_type": "display_data"
    }
   ],
   "source": [
    "summary(lm(y ~ x))"
   ]
  },
  {
   "cell_type": "code",
   "execution_count": 42,
   "metadata": {},
   "outputs": [
    {
     "data": {
      "text/html": [
       "<ol class=list-inline>\n",
       "\t<li>9.56473389876321</li>\n",
       "\t<li>2.0411115633281</li>\n",
       "\t<li>0.196610775422451</li>\n",
       "\t<li>0.0352555197439857</li>\n",
       "</ol>\n"
      ],
      "text/latex": [
       "\\begin{enumerate*}\n",
       "\\item 9.56473389876321\n",
       "\\item 2.0411115633281\n",
       "\\item 0.196610775422451\n",
       "\\item 0.0352555197439857\n",
       "\\end{enumerate*}\n"
      ],
      "text/markdown": [
       "1. 9.56473389876321\n",
       "2. 2.0411115633281\n",
       "3. 0.196610775422451\n",
       "4. 0.0352555197439857\n",
       "\n",
       "\n"
      ],
      "text/plain": [
       "[1] 9.56473390 2.04111156 0.19661078 0.03525552"
      ]
     },
     "metadata": {},
     "output_type": "display_data"
    }
   ],
   "source": [
    "c(summary(lm(y ~ x))$coefficients[,1:2]) # 相应的估计值以及标准差"
   ]
  },
  {
   "cell_type": "markdown",
   "metadata": {},
   "source": [
    "用replicate(, 复合语句)执行多次模拟， 返回向量或矩阵结果， 返回矩阵时，每列是一次模拟的结果。 下面是线性回归整个模拟程序，写成了一个函数。"
   ]
  },
  {
   "cell_type": "code",
   "execution_count": 44,
   "metadata": {},
   "outputs": [
    {
     "name": "stdout",
     "output_type": "stream",
     "text": [
      "1000 次模拟的平均值:\n",
      "         a          b       SE.a       SE.b \n",
      "9.99624063 1.99889264 0.36333861 0.05948963 \n",
      "1000 次模拟的标准差:\n",
      "         a          b       SE.a       SE.b \n",
      "0.39281551 0.06369336 0.12802849 0.01945043 \n"
     ]
    }
   ],
   "source": [
    "reg.sim <- function(\n",
    "  a=10, b=2, sigma=0.5, \n",
    "  n=10, B=1000){\n",
    "  set.seed(1)\n",
    "  resm <- replicate(B, {\n",
    "      x <- sample(1:10, size=n, replace=TRUE)\n",
    "      eps <- rnorm(n, 0, 0.5)\n",
    "      y <- a + b * x + eps\n",
    "      c(summary(lm(y ~ x))$coefficients[,1:2])\n",
    "  })\n",
    "  resm <- t(resm)\n",
    "  colnames(resm) <- c('a', 'b', 'SE.a', 'SE.b')\n",
    "  cat(B, '次模拟的平均值:\\n')\n",
    "  print( apply(resm, 2, mean) )\n",
    "  cat(B, '次模拟的标准差:\\n')\n",
    "  print( apply(resm, 2, sd) )\n",
    "}\n",
    "\n",
    "set.seed(1)\n",
    "reg.sim()"
   ]
  }
 ],
 "metadata": {
  "celltoolbar": "Slideshow",
  "kernelspec": {
   "display_name": "R",
   "language": "R",
   "name": "ir"
  },
  "language_info": {
   "codemirror_mode": "r",
   "file_extension": ".r",
   "mimetype": "text/x-r-source",
   "name": "R",
   "pygments_lexer": "r",
   "version": "3.5.3"
  }
 },
 "nbformat": 4,
 "nbformat_minor": 2
}
