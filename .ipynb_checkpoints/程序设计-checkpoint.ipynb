{
 "cells": [
  {
   "cell_type": "markdown",
   "metadata": {},
   "source": [
    "# 程序设计\n",
    "\n",
    "### 控制结构\n",
    "\n",
    "以下是控制函数的脚本执行流程的常用结构，包括：\n",
    "\n",
    "- 分支函数 `if else`\n",
    "- 循环函数 `for while repeat`\n",
    "- 终止语句 `break`\n",
    "- 空语句 `next`"
   ]
  },
  {
   "cell_type": "markdown",
   "metadata": {},
   "source": [
    "我们经常需要可以检查一个程序的状态和改变这个程序的行为的功能。条件语句可以提供这样的功能，最简单的形式是 if 语句。\n",
    "\n",
    "以下编写一个分段函数"
   ]
  },
  {
   "cell_type": "code",
   "execution_count": 9,
   "metadata": {
    "collapsed": false
   },
   "outputs": [
    {
     "name": "stdout",
     "output_type": "stream",
     "text": [
      "[1] \"x is greater than 10\"\n"
     ]
    }
   ],
   "source": [
    "x <- 1:15\n",
    "if (sample(x, 1) <= 10) {\n",
    "    print(\"x is less than 10\")\n",
    "} else {\n",
    "    print(\"x is greater than 10\")\n",
    "}"
   ]
  },
  {
   "cell_type": "markdown",
   "metadata": {},
   "source": [
    "可能有一种情况，当你需要执行一段代码几次，循环语句允许我们多次执行一个语句或一组语句。\n",
    "\n",
    "- repeat循环 多次执行一系列语句，并简化管理循环变量的代码\n",
    "- while循环 在给定条件为真时，重复语句或语句组。 它在执行循环体之前测试条件\n",
    "- for循环 像while语句，不同之处在于它测试在循环体的端部的条件\n",
    "\n",
    "以下编写一个计算1000以内的 Fibonacci 数的程序"
   ]
  },
  {
   "cell_type": "code",
   "execution_count": 15,
   "metadata": {
    "collapsed": false
   },
   "outputs": [
    {
     "name": "stdout",
     "output_type": "stream",
     "text": [
      " [1]   1   1   2   3   5   8  13  21  34  55  89 144 233 377 610 987\n"
     ]
    }
   ],
   "source": [
    "f<-c(1,1);i<-1\n",
    "repeat{\n",
    "    f[i+2]<-f[i]+f[i+1]\n",
    "    i<-i+1\n",
    "    if (f[i]+f[i+1]>=1000) break\n",
    "}\n",
    "print(f)"
   ]
  },
  {
   "cell_type": "code",
   "execution_count": 14,
   "metadata": {
    "collapsed": false
   },
   "outputs": [
    {
     "name": "stdout",
     "output_type": "stream",
     "text": [
      " [1]   1   1   2   3   5   8  13  21  34  55  89 144 233 377 610 987\n"
     ]
    }
   ],
   "source": [
    "f<-c(1,1);i<-1\n",
    "while(f[i]+f[i+1]<1000){\n",
    "    f[i+2]<-f[i]+f[i+1]\n",
    "    i<-i+1\n",
    "}\n",
    "print(f)"
   ]
  },
  {
   "cell_type": "markdown",
   "metadata": {},
   "source": [
    "构造一个4阶的Hilbert矩阵"
   ]
  },
  {
   "cell_type": "code",
   "execution_count": 18,
   "metadata": {
    "collapsed": false
   },
   "outputs": [
    {
     "name": "stdout",
     "output_type": "stream",
     "text": [
      "          [,1]      [,2]      [,3]      [,4]\n",
      "[1,] 1.0000000 0.5000000 0.3333333 0.2500000\n",
      "[2,] 0.5000000 0.3333333 0.2500000 0.2000000\n",
      "[3,] 0.3333333 0.2500000 0.2000000 0.1666667\n",
      "[4,] 0.2500000 0.2000000 0.1666667 0.1428571\n"
     ]
    }
   ],
   "source": [
    "n<-4; x<-array(0, dim=c(n,n))\n",
    "for (i in 1:n){\n",
    "    for (j in 1:n){\n",
    "        x[i,j]<-1/(i+j-1)\n",
    "    }\n",
    "}\n",
    "print(x)"
   ]
  }
 ],
 "metadata": {
  "kernelspec": {
   "display_name": "R",
   "language": "R",
   "name": "ir"
  }
 },
 "nbformat": 4,
 "nbformat_minor": 2
}
