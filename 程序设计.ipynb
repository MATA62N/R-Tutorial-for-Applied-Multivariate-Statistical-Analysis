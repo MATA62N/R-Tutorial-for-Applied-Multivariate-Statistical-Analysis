{
 "cells": [
  {
   "cell_type": "markdown",
   "metadata": {},
   "source": [
    "# 程序设计\n",
    "\n",
    "### 控制结构\n",
    "\n",
    "以下是控制函数的脚本执行流程的常用结构，包括：\n",
    "\n",
    "- 分支函数 `if else`\n",
    "- 循环函数 `for while repeat`\n",
    "- 终止语句 `break`\n",
    "- 空语句 `next`"
   ]
  },
  {
   "cell_type": "markdown",
   "metadata": {},
   "source": [
    "我们经常需要可以检查一个程序的状态和改变这个程序的行为的功能。条件语句可以提供这样的功能，最简单的形式是 if 语句。\n",
    "\n",
    "以下编写一个Relu函数，深度学习的激活函数之一"
   ]
  },
  {
   "cell_type": "code",
   "execution_count": 60,
   "metadata": {
    "collapsed": false
   },
   "outputs": [
    {
     "name": "stdout",
     "output_type": "stream",
     "text": [
      "[1] 1\n"
     ]
    }
   ],
   "source": [
    "x <- sample(-1:1, 1, replace=T)\n",
    "\n",
    "if (x < 0) {\n",
    "    y<-0\n",
    "} else {\n",
    "    y<-x\n",
    "}\n",
    "\n",
    "print(y)"
   ]
  },
  {
   "cell_type": "markdown",
   "metadata": {},
   "source": [
    "可能有一种情况，当你需要执行一段代码几次，循环语句允许我们多次执行一个语句或一组语句。\n",
    "\n",
    "- repeat循环 多次执行一系列语句，并简化管理循环变量的代码\n",
    "- while循环 在给定条件为真时，重复语句或语句组。 它在执行循环体之前测试条件\n",
    "- for循环 像while语句，不同之处在于它测试在循环体的端部的条件\n",
    "\n",
    "以下编写一个计算1000以内的 Fibonacci 数的程序"
   ]
  },
  {
   "cell_type": "code",
   "execution_count": 15,
   "metadata": {
    "collapsed": false
   },
   "outputs": [
    {
     "name": "stdout",
     "output_type": "stream",
     "text": [
      " [1]   1   1   2   3   5   8  13  21  34  55  89 144 233 377 610 987\n"
     ]
    }
   ],
   "source": [
    "f<-c(1,1);i<-1\n",
    "repeat{\n",
    "    f[i+2]<-f[i]+f[i+1]\n",
    "    i<-i+1\n",
    "    if (f[i]+f[i+1]>=1000) break\n",
    "}\n",
    "print(f)"
   ]
  },
  {
   "cell_type": "code",
   "execution_count": 14,
   "metadata": {
    "collapsed": false
   },
   "outputs": [
    {
     "name": "stdout",
     "output_type": "stream",
     "text": [
      " [1]   1   1   2   3   5   8  13  21  34  55  89 144 233 377 610 987\n"
     ]
    }
   ],
   "source": [
    "f<-c(1,1);i<-1\n",
    "while(f[i]+f[i+1]<1000){\n",
    "    f[i+2]<-f[i]+f[i+1]\n",
    "    i<-i+1\n",
    "}\n",
    "print(f)"
   ]
  },
  {
   "cell_type": "markdown",
   "metadata": {},
   "source": [
    "构造一个4阶的Hilbert矩阵，该矩阵正定且高度病态"
   ]
  },
  {
   "cell_type": "code",
   "execution_count": 18,
   "metadata": {
    "collapsed": false,
    "scrolled": true
   },
   "outputs": [
    {
     "name": "stdout",
     "output_type": "stream",
     "text": [
      "          [,1]      [,2]      [,3]      [,4]\n",
      "[1,] 1.0000000 0.5000000 0.3333333 0.2500000\n",
      "[2,] 0.5000000 0.3333333 0.2500000 0.2000000\n",
      "[3,] 0.3333333 0.2500000 0.2000000 0.1666667\n",
      "[4,] 0.2500000 0.2000000 0.1666667 0.1428571\n"
     ]
    }
   ],
   "source": [
    "n<-4; x<-array(0, dim=c(n,n))\n",
    "for (i in 1:n){\n",
    "    for (j in 1:n){\n",
    "        x[i,j]<-1/(i+j-1)\n",
    "    }\n",
    "}\n",
    "print(x)"
   ]
  },
  {
   "cell_type": "markdown",
   "metadata": {},
   "source": [
    "中止语句是 `break`，作用是强行中止循环；空语句是 `next`，表示继续执行"
   ]
  },
  {
   "cell_type": "code",
   "execution_count": 63,
   "metadata": {
    "collapsed": false
   },
   "outputs": [
    {
     "name": "stdout",
     "output_type": "stream",
     "text": [
      "[1] 1\n",
      "[1] 3\n"
     ]
    }
   ],
   "source": [
    "for (i in 1:5){\n",
    "    if (i==2) next\n",
    "    if (i==4) break\n",
    "    print(i)\n",
    "}"
   ]
  },
  {
   "cell_type": "markdown",
   "metadata": {},
   "source": [
    "### 函数\n",
    "\n",
    "在现代编程语言中函数的优点是可复用性、模块化设计，它是一系列声明的组合以执行特殊的任务。在 R 语言里有很多内建的函数，例如 sum()、min()、max()、mean() 等。\n",
    "\n",
    "函数定义使用 `function` 关键字，一般格式为\n",
    "```\n",
    "function_name <- function(arg_1, arg_2, ...) {\n",
    "   Function body \n",
    "}\n",
    "```\n",
    "\n",
    "函数体是一个表达式或复合表达式（复合语句），以复合表达式中最后一个表达式为返回值，也可以用 `return(x)` 返回x的值。如果函数需要返回多个结果， 可以打包在一个列表（list）中返回。"
   ]
  },
  {
   "cell_type": "code",
   "execution_count": 69,
   "metadata": {
    "collapsed": false
   },
   "outputs": [
    {
     "data": {
      "text/html": [
       "0.000860937499999984"
      ],
      "text/latex": [
       "0.000860937499999984"
      ],
      "text/markdown": [
       "0.000860937499999984"
      ],
      "text/plain": [
       "[1] 0.0008609375"
      ]
     },
     "metadata": {},
     "output_type": "display_data"
    }
   ],
   "source": [
    "moment<-function(x, k, mean=0){\n",
    "    sum((x-mean)^k)/length(x)\n",
    "}\n",
    "    \n",
    "X<-c(80.02,79.94,79.98,79.97,79.97,80.03,79.95,79.97)\n",
    "moment(X,k=2,mean=mean(X))"
   ]
  },
  {
   "cell_type": "markdown",
   "metadata": {},
   "source": [
    "自定义形式参数表能帮助我们更好地定制函数，形参表常见的几种变化有：\n",
    "\n",
    "- 无参数\n",
    "- 位置和名称\n",
    "- 指定缺省值\n",
    "- 传递函数\n",
    "- 省略号`...`"
   ]
  },
  {
   "cell_type": "markdown",
   "metadata": {},
   "source": [
    "调用没有参数的函数"
   ]
  },
  {
   "cell_type": "code",
   "execution_count": 70,
   "metadata": {
    "collapsed": false
   },
   "outputs": [
    {
     "name": "stdout",
     "output_type": "stream",
     "text": [
      "[1] 1\n",
      "[1] 4\n",
      "[1] 9\n",
      "[1] 16\n",
      "[1] 25\n"
     ]
    }
   ],
   "source": [
    "# Create a function without an argument.\n",
    "new.function <- function() {\n",
    "   for(i in 1:5) {\n",
    "      print(i^2)\n",
    "   }\n",
    "}\n",
    "\n",
    "# Call the function without supplying an argument.\n",
    "new.function()"
   ]
  },
  {
   "cell_type": "markdown",
   "metadata": {},
   "source": [
    "使用参数值调用函数\n",
    "\n",
    "函数调用的参数可以按照函数中定义的顺序提供，也可以以不同的顺序提供，但分配给参数的名称。"
   ]
  },
  {
   "cell_type": "code",
   "execution_count": 71,
   "metadata": {
    "collapsed": false
   },
   "outputs": [
    {
     "name": "stdout",
     "output_type": "stream",
     "text": [
      "[1] 26\n",
      "[1] 58\n"
     ]
    }
   ],
   "source": [
    "# Create a function with arguments.\n",
    "new.function <- function(a,b,c) {\n",
    "   result <- a * b + c\n",
    "   print(result)\n",
    "}\n",
    "\n",
    "# Call the function by position of arguments.\n",
    "new.function(5,3,11)\n",
    "\n",
    "# Call the function by names of the arguments.\n",
    "new.function(a = 11, b = 5, c = 3)"
   ]
  },
  {
   "cell_type": "markdown",
   "metadata": {},
   "source": [
    "使用默认参数调用函数\n",
    "\n",
    "我们可以在函数定义中定义参数的值，并调用函数而不提供任何参数以获取默认结果。 但是我们也可以通过提供参数的新值来获得非默认结果来调用这样的函数。"
   ]
  },
  {
   "cell_type": "code",
   "execution_count": 72,
   "metadata": {
    "collapsed": false
   },
   "outputs": [
    {
     "name": "stdout",
     "output_type": "stream",
     "text": [
      "[1] 18\n",
      "[1] 45\n"
     ]
    }
   ],
   "source": [
    "# Create a function with arguments.\n",
    "new.function <- function(a = 3, b = 6) {\n",
    "   result <- a * b\n",
    "   print(result)\n",
    "}\n",
    "\n",
    "# Call the function without giving any argument.\n",
    "new.function()\n",
    "\n",
    "# Call the function with giving new values of the argument.\n",
    "new.function(9,5)"
   ]
  },
  {
   "cell_type": "markdown",
   "metadata": {},
   "source": [
    "将函数作为参数传递到函数中\n",
    "\n",
    "我们常常用到对一堆数据的多个单元进行某类操作，此时很适合自定义传递函数的函数，R语言的 `*apply` 有着同样的手法。"
   ]
  },
  {
   "cell_type": "code",
   "execution_count": 73,
   "metadata": {
    "collapsed": false
   },
   "outputs": [
    {
     "data": {
      "text/html": [
       "6"
      ],
      "text/latex": [
       "6"
      ],
      "text/markdown": [
       "6"
      ],
      "text/plain": [
       "[1] 6"
      ]
     },
     "metadata": {},
     "output_type": "display_data"
    },
    {
     "data": {
      "text/html": [
       "8"
      ],
      "text/latex": [
       "8"
      ],
      "text/markdown": [
       "8"
      ],
      "text/plain": [
       "[1] 8"
      ]
     },
     "metadata": {},
     "output_type": "display_data"
    }
   ],
   "source": [
    "add_two_numbers <- function(num1, num2){\n",
    "   num1 + num2\n",
    "}\n",
    "\n",
    "multiply_two_numbers <- function(num1, num2){\n",
    "    num1 * num2\n",
    "}\n",
    "\n",
    "some_function <- function(func){\n",
    "   func(2, 4)\n",
    "\n",
    "}\n",
    "\n",
    "some_function(add_two_numbers)\n",
    "\n",
    "some_function(multiply_two_numbers)"
   ]
  },
  {
   "cell_type": "markdown",
   "metadata": {},
   "source": [
    "在自定义R函数的形参中， 还允许有一个特殊的...形参（三个小数点）\n",
    "\n",
    " 在函数调用时，所有没有形参与之匹配的实参，不论是带有名字还是不带有名字的，都自动归入这个参数。"
   ]
  },
  {
   "cell_type": "code",
   "execution_count": 74,
   "metadata": {
    "collapsed": false,
    "scrolled": true
   },
   "outputs": [
    {
     "data": {
      "text/html": [
       "<span style=white-space:pre-wrap>'News from London today where  students took to the streets in protest of the new dog being installed on campus.'</span>"
      ],
      "text/latex": [
       "'News from London today where  students took to the streets in protest of the new dog being installed on campus.'"
      ],
      "text/markdown": [
       "<span style=white-space:pre-wrap>'News from London today where  students took to the streets in protest of the new dog being installed on campus.'</span>"
      ],
      "text/plain": [
       "[1] \"News from London today where  students took to the streets in protest of the new dog being installed on campus.\""
      ]
     },
     "metadata": {},
     "output_type": "display_data"
    }
   ],
   "source": [
    "mad_libs <- function(...){\n",
    "  \n",
    "  args <- list(...)\n",
    "  \n",
    "  place <- args[[\"place\"]]\n",
    "  adjective <- args[[\"adjective\"]]\n",
    "  noun <- args[[\"noun\"]]\n",
    "  \n",
    "  paste(\"News from\", place, \"today where\", adjective, \"students took to the streets in protest of the new\", noun, \"being installed on campus.\")\n",
    "}\n",
    "\n",
    "mad_libs(place = \"London\", adjustive = \"beautiful\", noun = \"dog\")"
   ]
  },
  {
   "cell_type": "markdown",
   "metadata": {},
   "source": [
    "省略号能帮助我们定制十分强大和健壮的函数，在R里面常用，例如 `sapply(x, FUN, ...)` 中的形式参数FUN需要函数实参，此函数有可能需要更多的参数，则 `...` 发挥作用。\n",
    "\n",
    "我们将前面的 `some_function` 修改得更加强大和健壮，例如自定义计算的数据。"
   ]
  },
  {
   "cell_type": "code",
   "execution_count": 81,
   "metadata": {
    "collapsed": false
   },
   "outputs": [
    {
     "data": {
      "text/html": [
       "12"
      ],
      "text/latex": [
       "12"
      ],
      "text/markdown": [
       "12"
      ],
      "text/plain": [
       "[1] 12"
      ]
     },
     "metadata": {},
     "output_type": "display_data"
    }
   ],
   "source": [
    "some_function_ad <- function(func, ...){\n",
    "   func(...)\n",
    "}\n",
    "\n",
    "some_function_ad(func=multiply_two_numbers, num1=3, num2=4)"
   ]
  },
  {
   "cell_type": "markdown",
   "metadata": {},
   "source": [
    "`*apply` 家族是R中很强大的函数，其主要思想是 `Split-Apply-Combine`，用于处理数据。在此介绍以下几种：\n",
    "\n",
    "- `lapply` 用来对 `list`、`data.frame` 数据集进行循环应用某个函数，返回列表\n",
    "- `sapply` 用来对 `list`、`data.frame` 数据集进行循环应用某个函数，返回向量，输出更加友好\n",
    "- `vapply` 与前一个函数相似，但可以预先指定的返回值类型，使得得到的结果更加安全\n",
    "- `tapply` 把数据按照某种分组，在每个组内进行某个运算\n",
    "\n",
    "创建一个数据帧作为数据来展示各个函数"
   ]
  },
  {
   "cell_type": "code",
   "execution_count": 99,
   "metadata": {
    "collapsed": false
   },
   "outputs": [
    {
     "name": "stdout",
     "output_type": "stream",
     "text": [
      "     Name Sex Age Height Weight\n",
      "1   Alice   F  13   56.5   84.0\n",
      "2   Becka   F  13   65.3   98.0\n",
      "3   James   M  13   57.3   83.0\n",
      "4 Jeffrey   M  13   62.5   84.0\n",
      "5    John   M  12   59.0   99.5\n"
     ]
    }
   ],
   "source": [
    "df<-data.frame(\n",
    "    Name=c(\"Alice\",\"Becka\",\"James\",\"Jeffrey\",\"John\"),\n",
    "    Sex=c(\"F\",\"F\",\"M\",\"M\",\"M\"),\n",
    "    Age=c(13,13,13,13,12),\n",
    "    Height=c(56.5,65.3,57.3,62.5,59.0),\n",
    "    Weight=c(84.0,98.0,83.0,84.0,99.5)\n",
    "    )\n",
    "\n",
    "print(df)"
   ]
  },
  {
   "cell_type": "code",
   "execution_count": 105,
   "metadata": {
    "collapsed": false
   },
   "outputs": [
    {
     "name": "stdout",
     "output_type": "stream",
     "text": [
      "$Age\n",
      "[1] 12.8\n",
      "\n",
      "$Height\n",
      "[1] 60.12\n",
      "\n",
      "$Weight\n",
      "[1] 89.7\n",
      "\n"
     ]
    }
   ],
   "source": [
    "y<-lapply(df[3:5], mean)\n",
    "print(y)"
   ]
  },
  {
   "cell_type": "code",
   "execution_count": 106,
   "metadata": {
    "collapsed": false
   },
   "outputs": [
    {
     "name": "stdout",
     "output_type": "stream",
     "text": [
      "   Age Height Weight \n",
      " 12.80  60.12  89.70 \n"
     ]
    }
   ],
   "source": [
    "y<-sapply(df[3:5], mean)\n",
    "print(y)"
   ]
  },
  {
   "cell_type": "code",
   "execution_count": 107,
   "metadata": {
    "collapsed": false
   },
   "outputs": [
    {
     "name": "stdout",
     "output_type": "stream",
     "text": [
      "   Age Height Weight \n",
      " 12.80  60.12  89.70 \n"
     ]
    }
   ],
   "source": [
    "y<-vapply(df[3:5], mean, numeric(1))\n",
    "print(y)"
   ]
  },
  {
   "cell_type": "code",
   "execution_count": 110,
   "metadata": {
    "collapsed": false
   },
   "outputs": [
    {
     "name": "stdout",
     "output_type": "stream",
     "text": [
      "       F        M \n",
      "13.00000 12.66667 \n"
     ]
    }
   ],
   "source": [
    "y<-tapply(df$Age, df$Sex, mean)\n",
    "print(y)"
   ]
  },
  {
   "cell_type": "markdown",
   "metadata": {},
   "source": [
    "### 调试\n",
    "\n",
    "在程序运行出错时，假定没有IDE的情况下，常用的调试方法有：\n",
    "\n",
    "- 若有错误提示则看错误提示\n",
    "- 输出中间结果，`print` 和 `cat`\n",
    "- 跟踪调试，实时地查看甚至修改运行时变量的值，`browser` 和 `debug`"
   ]
  },
  {
   "cell_type": "code",
   "execution_count": 82,
   "metadata": {
    "collapsed": false
   },
   "outputs": [
    {
     "ename": "ERROR",
     "evalue": "Error in f(10, 20): 找不到对象'y_'\n",
     "output_type": "error",
     "traceback": [
      "Error in f(10, 20): 找不到对象'y_'\nTraceback:\n",
      "1. f(10, 20)"
     ]
    }
   ],
   "source": [
    "f<-function(x,y){\n",
    "    x+y_\n",
    "}\n",
    "\n",
    "f(10,20)"
   ]
  },
  {
   "cell_type": "code",
   "execution_count": 83,
   "metadata": {
    "collapsed": false,
    "scrolled": true
   },
   "outputs": [
    {
     "name": "stdout",
     "output_type": "stream",
     "text": [
      "x= 10 \n",
      "y= 20 \n"
     ]
    },
    {
     "data": {
      "text/html": [
       "30"
      ],
      "text/latex": [
       "30"
      ],
      "text/markdown": [
       "30"
      ],
      "text/plain": [
       "[1] 30"
      ]
     },
     "metadata": {},
     "output_type": "display_data"
    }
   ],
   "source": [
    "f<-function(x,y){\n",
    "    cat('x=',x,'\\n')\n",
    "    cat('y=',y,'\\n')\n",
    "    x+y\n",
    "}\n",
    "\n",
    "f(10,20)"
   ]
  },
  {
   "cell_type": "code",
   "execution_count": 85,
   "metadata": {
    "collapsed": false
   },
   "outputs": [
    {
     "name": "stdout",
     "output_type": "stream",
     "text": [
      "Called from: f(10, 20)\n",
      "debug在<text>#4: x + y\n"
     ]
    },
    {
     "data": {
      "text/html": [
       "30"
      ],
      "text/latex": [
       "30"
      ],
      "text/markdown": [
       "30"
      ],
      "text/plain": [
       "[1] 30"
      ]
     },
     "metadata": {},
     "output_type": "display_data"
    }
   ],
   "source": [
    "# n单步跟踪 c退出跟踪\n",
    "f<-function(x,y){\n",
    "    browser()\n",
    "    x+y\n",
    "}\n",
    "\n",
    "f(10,20)"
   ]
  },
  {
   "cell_type": "code",
   "execution_count": 86,
   "metadata": {
    "collapsed": false
   },
   "outputs": [
    {
     "name": "stdout",
     "output_type": "stream",
     "text": [
      "debugging in: f(10, 20)\n",
      "debug在<text>#1: {\n",
      "    x + y\n",
      "}\n",
      "debug在<text>#2: x + y\n",
      "exiting from: f(10, 20)\n"
     ]
    },
    {
     "data": {
      "text/html": [
       "30"
      ],
      "text/latex": [
       "30"
      ],
      "text/markdown": [
       "30"
      ],
      "text/plain": [
       "[1] 30"
      ]
     },
     "metadata": {},
     "output_type": "display_data"
    }
   ],
   "source": [
    "f<-function(x,y){\n",
    "    x+y\n",
    "}\n",
    "debug(f)\n",
    "f(10,20)\n"
   ]
  }
 ],
 "metadata": {
  "kernelspec": {
   "display_name": "R",
   "language": "R",
   "name": "ir"
  }
 },
 "nbformat": 4,
 "nbformat_minor": 2
}
