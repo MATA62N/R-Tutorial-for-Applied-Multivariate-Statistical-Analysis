{
 "cells": [
  {
   "cell_type": "markdown",
   "metadata": {
    "slideshow": {
     "slide_type": "slide"
    }
   },
   "source": [
    "# 数据结构"
   ]
  },
  {
   "cell_type": "markdown",
   "metadata": {
    "slideshow": {
     "slide_type": "slide"
    }
   },
   "source": [
    "### 变量\n",
    "\n",
    "在程序语言中，变量用来保存输入的值或计算的结果。 变量可以存放各种不同类型的值， 如单个数值、多个数值（称为向量）、单个字符串、多个字符串（称为字符型向量），等等。 单个数值称为标量。"
   ]
  },
  {
   "cell_type": "code",
   "execution_count": 12,
   "metadata": {
    "slideshow": {
     "slide_type": "fragment"
    }
   },
   "outputs": [
    {
     "data": {
      "text/html": [
       "2019"
      ],
      "text/latex": [
       "2019"
      ],
      "text/markdown": [
       "2019"
      ],
      "text/plain": [
       "[1] 2019"
      ]
     },
     "metadata": {},
     "output_type": "display_data"
    }
   ],
   "source": [
    "2000+19"
   ]
  },
  {
   "cell_type": "code",
   "execution_count": 1,
   "metadata": {
    "slideshow": {
     "slide_type": "fragment"
    }
   },
   "outputs": [
    {
     "data": {
      "text/html": [
       "2020"
      ],
      "text/latex": [
       "2020"
      ],
      "text/markdown": [
       "2020"
      ],
      "text/plain": [
       "[1] 2020"
      ]
     },
     "metadata": {},
     "output_type": "display_data"
    }
   ],
   "source": [
    "x1<-2001\n",
    "x2<-19\n",
    "\n",
    "x1+x2"
   ]
  },
  {
   "cell_type": "markdown",
   "metadata": {
    "slideshow": {
     "slide_type": "slide"
    }
   },
   "source": [
    "用程序设计语言的术语描述， R语言是动态类型的， 其变量的类型不需要预先声明， 运行过程中允许变量类型改变， 实际上变量赋值是一种“绑定”（binding）， 将一个变量的名称（变量名）与实际的一个存储位置联系在一起。 "
   ]
  },
  {
   "cell_type": "code",
   "execution_count": 14,
   "metadata": {
    "slideshow": {
     "slide_type": "slide"
    }
   },
   "outputs": [
    {
     "name": "stdout",
     "output_type": "stream",
     "text": [
      "The class of var_x is  character \n",
      "  Now the class of var_x is  numeric \n",
      "   Next the class of var_x becomes  integer \n"
     ]
    }
   ],
   "source": [
    "var_x <- \"Hello\"\n",
    "cat(\"The class of var_x is \",class(var_x),\"\n",
    "\")\n",
    "\n",
    "var_x <- 34.5\n",
    "cat(\"  Now the class of var_x is \",class(var_x),\"\n",
    "\")\n",
    "\n",
    "var_x <- 27L\n",
    "cat(\"   Next the class of var_x becomes \",class(var_x),\"\n",
    "\")"
   ]
  },
  {
   "cell_type": "markdown",
   "metadata": {
    "slideshow": {
     "slide_type": "slide"
    }
   },
   "source": [
    "要知道工作空间中当前可用的所有变量，我们使用ls()函数；可以使用rm()函数删除变量，比如`rm(list=ls())`会清理内存。"
   ]
  },
  {
   "cell_type": "code",
   "execution_count": 4,
   "metadata": {
    "slideshow": {
     "slide_type": "fragment"
    }
   },
   "outputs": [
    {
     "name": "stdout",
     "output_type": "stream",
     "text": [
      "[1] \"x1\" \"x2\"\n"
     ]
    }
   ],
   "source": [
    "print(ls())\n",
    "#rm"
   ]
  },
  {
   "cell_type": "markdown",
   "metadata": {
    "slideshow": {
     "slide_type": "slide"
    }
   },
   "source": [
    "### 数据类型\n",
    "\n",
    "\n",
    "当你创建一个变量，你必须在内存中保留一些空间来存储它们。您可能想存储各种数据类型的信息，如字符，宽字符，整数，浮点，双浮点，布尔等。\n",
    "\n",
    "R语言基本的数据类型归类为\n",
    "\n",
    "- 数值型：整数，单精度和双精度\n",
    "- 逻辑型：TRUE, FALSE\n",
    "- 字符型：夹在双引号或单引号之间的字符串\n",
    "- 复数型：具有 `a+bi` 的形式\n",
    "- 原味型：以二进制形式保存的数据\n",
    "- 特殊变量：Inf 无穷，NaN 不确定，NA 缺失值，NULL 空的对象"
   ]
  },
  {
   "cell_type": "code",
   "execution_count": 5,
   "metadata": {
    "slideshow": {
     "slide_type": "subslide"
    }
   },
   "outputs": [
    {
     "name": "stdout",
     "output_type": "stream",
     "text": [
      "[1] 23.5\n"
     ]
    }
   ],
   "source": [
    "v <- 23.5\n",
    "print(v)"
   ]
  },
  {
   "cell_type": "code",
   "execution_count": 6,
   "metadata": {
    "slideshow": {
     "slide_type": "subslide"
    }
   },
   "outputs": [
    {
     "name": "stdout",
     "output_type": "stream",
     "text": [
      "[1] TRUE\n"
     ]
    }
   ],
   "source": [
    "v <- TRUE \n",
    "print(v)"
   ]
  },
  {
   "cell_type": "code",
   "execution_count": 7,
   "metadata": {
    "slideshow": {
     "slide_type": "subslide"
    }
   },
   "outputs": [
    {
     "name": "stdout",
     "output_type": "stream",
     "text": [
      "[1] \"TRUE\"\n"
     ]
    }
   ],
   "source": [
    "v <- \"TRUE\"\n",
    "print(v)"
   ]
  },
  {
   "cell_type": "code",
   "execution_count": 8,
   "metadata": {
    "slideshow": {
     "slide_type": "subslide"
    }
   },
   "outputs": [
    {
     "name": "stdout",
     "output_type": "stream",
     "text": [
      "[1] 2.2+3.5i\n"
     ]
    }
   ],
   "source": [
    "v <- 2.2+3.5i\n",
    "print(v)"
   ]
  },
  {
   "cell_type": "code",
   "execution_count": 10,
   "metadata": {
    "slideshow": {
     "slide_type": "subslide"
    }
   },
   "outputs": [
    {
     "name": "stderr",
     "output_type": "stream",
     "text": [
      "Warning message in sqrt(-2):\n",
      "\"产生了NaNs\""
     ]
    },
    {
     "name": "stdout",
     "output_type": "stream",
     "text": [
      "[1] NaN\n"
     ]
    }
   ],
   "source": [
    "v<-sqrt(-2)\n",
    "print(v)"
   ]
  },
  {
   "cell_type": "code",
   "execution_count": 13,
   "metadata": {
    "slideshow": {
     "slide_type": "subslide"
    }
   },
   "outputs": [
    {
     "name": "stdout",
     "output_type": "stream",
     "text": [
      "[1] NA\n"
     ]
    }
   ],
   "source": [
    "# 缺失值用NA表示。统计计算中经常会遇到缺失值，表示记录丢失、因为错误而不能用、节假日没有数据等。\n",
    "v<-NA\n",
    "print(v)"
   ]
  },
  {
   "cell_type": "markdown",
   "metadata": {
    "slideshow": {
     "slide_type": "slide"
    }
   },
   "source": [
    "与数据类型相关的常用函数有：\n",
    "\n",
    "- `typeof()`：查询数据的类型\n",
    "- `is`函数家族：判别对象类型\n",
    "- `as`函数家族：转换对象类型\n",
    "- `class`：查看变量的类型"
   ]
  },
  {
   "cell_type": "code",
   "execution_count": 15,
   "metadata": {
    "slideshow": {
     "slide_type": "fragment"
    }
   },
   "outputs": [
    {
     "name": "stdout",
     "output_type": "stream",
     "text": [
      "[1] 23.5\n"
     ]
    }
   ],
   "source": [
    "v <- 23.5\n",
    "print(v)"
   ]
  },
  {
   "cell_type": "code",
   "execution_count": 25,
   "metadata": {
    "slideshow": {
     "slide_type": "subslide"
    }
   },
   "outputs": [
    {
     "data": {
      "text/html": [
       "'double'"
      ],
      "text/latex": [
       "'double'"
      ],
      "text/markdown": [
       "'double'"
      ],
      "text/plain": [
       "[1] \"double\""
      ]
     },
     "metadata": {},
     "output_type": "display_data"
    }
   ],
   "source": [
    "typeof(v)"
   ]
  },
  {
   "cell_type": "code",
   "execution_count": 17,
   "metadata": {
    "slideshow": {
     "slide_type": "subslide"
    }
   },
   "outputs": [
    {
     "data": {
      "text/html": [
       "TRUE"
      ],
      "text/latex": [
       "TRUE"
      ],
      "text/markdown": [
       "TRUE"
      ],
      "text/plain": [
       "[1] TRUE"
      ]
     },
     "metadata": {},
     "output_type": "display_data"
    }
   ],
   "source": [
    "is.numeric(v)"
   ]
  },
  {
   "cell_type": "code",
   "execution_count": 18,
   "metadata": {
    "slideshow": {
     "slide_type": "subslide"
    }
   },
   "outputs": [
    {
     "data": {
      "text/html": [
       "'23.5'"
      ],
      "text/latex": [
       "'23.5'"
      ],
      "text/markdown": [
       "'23.5'"
      ],
      "text/plain": [
       "[1] \"23.5\""
      ]
     },
     "metadata": {},
     "output_type": "display_data"
    }
   ],
   "source": [
    "as.character(v)"
   ]
  },
  {
   "cell_type": "markdown",
   "metadata": {
    "slideshow": {
     "slide_type": "slide"
    }
   },
   "source": [
    "在基本的数据类型之上，R语言构建出更复杂的数据结构或者对象，常用的包括向量、矩阵、多维数组、列表、数据框等；从另一个角度来看，在统计分析中我们需要有效地表达出数据（包括定量变量和定性变量），得构建出符合要求的数据结构。\n",
    "\n",
    "举例：\n",
    "\n",
    "- 单个随机变量的样本->向量\n",
    "- 多个随机变量的样本->矩阵\n",
    "- 定性变量和定量变量的组合->列表、数据框"
   ]
  },
  {
   "cell_type": "markdown",
   "metadata": {
    "slideshow": {
     "slide_type": "slide"
    }
   },
   "source": [
    "### 向量\n",
    "\n",
    "在 R 语言中，向量是最常用的数据结构，是由相同类型的数据元素组成的序列。\n",
    "\n",
    "向量数据类型是其他数据类型访问方式，值得了解的知识如下：\n",
    "\n",
    "- [数值型向量及其运算](http://www.math.pku.edu.cn/teachers/lidf/docs/Rbook/html/_Rbook/prog-type-num.html)\n",
    "- [逻辑型向量及其运算](http://www.math.pku.edu.cn/teachers/lidf/docs/Rbook/html/_Rbook/prog-type-logi.html)\n",
    "- [字符型数据及其处理](http://www.math.pku.edu.cn/teachers/lidf/docs/Rbook/html/_Rbook/prog-type-char.html)\n",
    "\n",
    "但由于时间和能力有限，并且避免混乱，主要围绕数值型向量讲解，并穿插另两种类型的向量：\n",
    "\n",
    "- 构建\n",
    "- 运算\n",
    "- 函数\n",
    "- 下标"
   ]
  },
  {
   "cell_type": "markdown",
   "metadata": {
    "slideshow": {
     "slide_type": "subslide"
    }
   },
   "source": [
    "向量一般用 `c()` 或者特定函数创建"
   ]
  },
  {
   "cell_type": "code",
   "execution_count": 5,
   "metadata": {
    "slideshow": {
     "slide_type": "fragment"
    }
   },
   "outputs": [
    {
     "data": {
      "text/html": [
       "<ol class=list-inline>\n",
       "\t<li>10.4</li>\n",
       "\t<li>5.6</li>\n",
       "\t<li>3.1</li>\n",
       "\t<li>6.4</li>\n",
       "\t<li>21.7</li>\n",
       "\t<li>44</li>\n",
       "</ol>\n"
      ],
      "text/latex": [
       "\\begin{enumerate*}\n",
       "\\item 10.4\n",
       "\\item 5.6\n",
       "\\item 3.1\n",
       "\\item 6.4\n",
       "\\item 21.7\n",
       "\\item 44\n",
       "\\end{enumerate*}\n"
      ],
      "text/markdown": [
       "1. 10.4\n",
       "2. 5.6\n",
       "3. 3.1\n",
       "4. 6.4\n",
       "5. 21.7\n",
       "6. 44\n",
       "\n",
       "\n"
      ],
      "text/plain": [
       "[1] 10.4  5.6  3.1  6.4 21.7 44.0"
      ]
     },
     "metadata": {},
     "output_type": "display_data"
    },
    {
     "data": {
      "text/html": [
       "'numeric'"
      ],
      "text/latex": [
       "'numeric'"
      ],
      "text/markdown": [
       "'numeric'"
      ],
      "text/plain": [
       "[1] \"numeric\""
      ]
     },
     "metadata": {},
     "output_type": "display_data"
    }
   ],
   "source": [
    "my_vector<-c(10.4,5.6,3.1,6.4,21.7,44)\n",
    "my_vector\n",
    "class(my_vector)"
   ]
  },
  {
   "cell_type": "markdown",
   "metadata": {
    "slideshow": {
     "slide_type": "subslide"
    }
   },
   "source": [
    "用 `print()` 函数显示向量或在命令行中显示向量时， 每行显示的行首会有方括号和数字序号， 代表该行显示的第一个向量元素的下标。"
   ]
  },
  {
   "cell_type": "code",
   "execution_count": 27,
   "metadata": {
    "slideshow": {
     "slide_type": "fragment"
    }
   },
   "outputs": [
    {
     "name": "stdout",
     "output_type": "stream",
     "text": [
      "[1] 10.4  5.6  3.1  6.4 21.7\n"
     ]
    }
   ],
   "source": [
    "print(my_vector)"
   ]
  },
  {
   "cell_type": "markdown",
   "metadata": {
    "slideshow": {
     "slide_type": "slide"
    }
   },
   "source": [
    "我们常常调用特定函数来产生有规律的向量。\n",
    "\n",
    "- 等差数列\n",
    "- `seq()` 等距间隔数列\n",
    "- `rep()` 重复函数\n",
    "- `r+分布` 随机有规律的数据（符合各种分布函数）"
   ]
  },
  {
   "cell_type": "code",
   "execution_count": 18,
   "metadata": {
    "slideshow": {
     "slide_type": "subslide"
    }
   },
   "outputs": [
    {
     "name": "stdout",
     "output_type": "stream",
     "text": [
      " [1]  1  2  3  4  5  6  7  8  9 10\n"
     ]
    }
   ],
   "source": [
    "my_vector<-1:10\n",
    "print(my_vector)"
   ]
  },
  {
   "cell_type": "code",
   "execution_count": 6,
   "metadata": {
    "slideshow": {
     "slide_type": "subslide"
    }
   },
   "outputs": [
    {
     "name": "stdout",
     "output_type": "stream",
     "text": [
      " [1] 0.0000000 0.2617994 0.5235988 0.7853982 1.0471976 1.3089969 1.5707963\n",
      " [8] 1.8325957 2.0943951 2.3561945 2.6179939 2.8797933 3.1415927 3.4033920\n",
      "[15] 3.6651914 3.9269908 4.1887902 4.4505896 4.7123890 4.9741884 5.2359878\n",
      "[22] 5.4977871 5.7595865 6.0213859 6.2831853\n"
     ]
    }
   ],
   "source": [
    "?seq\n",
    "x <- seq(0, 2*pi, length=25)\n",
    "print(x)"
   ]
  },
  {
   "cell_type": "code",
   "execution_count": 7,
   "metadata": {
    "slideshow": {
     "slide_type": "subslide"
    }
   },
   "outputs": [
    {
     "name": "stdout",
     "output_type": "stream",
     "text": [
      " [1] 1 2 3 4 1 2 3 4 1 2\n"
     ]
    }
   ],
   "source": [
    "?rep\n",
    "x<-rep(1:4, length.out=10)\n",
    "print(x)"
   ]
  },
  {
   "cell_type": "code",
   "execution_count": 8,
   "metadata": {
    "slideshow": {
     "slide_type": "subslide"
    }
   },
   "outputs": [
    {
     "data": {
      "text/html": [
       "<ol class=list-inline>\n",
       "\t<li>1.18815485736089</li>\n",
       "\t<li>-0.0115963819315748</li>\n",
       "\t<li>-1.69114045604003</li>\n",
       "\t<li>-1.8943704333578</li>\n",
       "\t<li>0.446647978799071</li>\n",
       "</ol>\n"
      ],
      "text/latex": [
       "\\begin{enumerate*}\n",
       "\\item 1.18815485736089\n",
       "\\item -0.0115963819315748\n",
       "\\item -1.69114045604003\n",
       "\\item -1.8943704333578\n",
       "\\item 0.446647978799071\n",
       "\\end{enumerate*}\n"
      ],
      "text/markdown": [
       "1. 1.18815485736089\n",
       "2. -0.0115963819315748\n",
       "3. -1.69114045604003\n",
       "4. -1.8943704333578\n",
       "5. 0.446647978799071\n",
       "\n",
       "\n"
      ],
      "text/plain": [
       "[1]  1.18815486 -0.01159638 -1.69114046 -1.89437043  0.44664798"
      ]
     },
     "metadata": {},
     "output_type": "display_data"
    }
   ],
   "source": [
    "?rnorm\n",
    "rnorm(5,0,2)"
   ]
  },
  {
   "cell_type": "markdown",
   "metadata": {
    "slideshow": {
     "slide_type": "slide"
    }
   },
   "source": [
    "向量的运算：\n",
    "\n",
    "- 标量与标量运算：加减乘除乘方等\n",
    "- 向量与标量运算：每个元素与标量的运算\n",
    "- 等长向量运算：对应元素两两运算\n",
    "- 不等长向量的运算：运算或函数调用的一般规则是每次从头重复利用短的一个"
   ]
  },
  {
   "cell_type": "code",
   "execution_count": 33,
   "metadata": {
    "slideshow": {
     "slide_type": "subslide"
    }
   },
   "outputs": [
    {
     "data": {
      "text/html": [
       "5.56"
      ],
      "text/latex": [
       "5.56"
      ],
      "text/markdown": [
       "5.56"
      ],
      "text/plain": [
       "[1] 5.56"
      ]
     },
     "metadata": {},
     "output_type": "display_data"
    }
   ],
   "source": [
    "1.5 + 2.3 - (0.6 + 2.1)*1.2 - 1.5/0.5 + 2^3"
   ]
  },
  {
   "cell_type": "code",
   "execution_count": 34,
   "metadata": {
    "slideshow": {
     "slide_type": "subslide"
    }
   },
   "outputs": [
    {
     "data": {
      "text/html": [
       "<ol class=list-inline>\n",
       "\t<li>3</li>\n",
       "\t<li>12</li>\n",
       "</ol>\n"
      ],
      "text/latex": [
       "\\begin{enumerate*}\n",
       "\\item 3\n",
       "\\item 12\n",
       "\\end{enumerate*}\n"
      ],
      "text/markdown": [
       "1. 3\n",
       "2. 12\n",
       "\n",
       "\n"
      ],
      "text/plain": [
       "[1]  3 12"
      ]
     },
     "metadata": {},
     "output_type": "display_data"
    }
   ],
   "source": [
    "x <- c(1, 10)\n",
    "x+2"
   ]
  },
  {
   "cell_type": "code",
   "execution_count": 35,
   "metadata": {
    "slideshow": {
     "slide_type": "subslide"
    }
   },
   "outputs": [
    {
     "data": {
      "text/html": [
       "<ol class=list-inline>\n",
       "\t<li>5</li>\n",
       "\t<li>12</li>\n",
       "</ol>\n"
      ],
      "text/latex": [
       "\\begin{enumerate*}\n",
       "\\item 5\n",
       "\\item 12\n",
       "\\end{enumerate*}\n"
      ],
      "text/markdown": [
       "1. 5\n",
       "2. 12\n",
       "\n",
       "\n"
      ],
      "text/plain": [
       "[1]  5 12"
      ]
     },
     "metadata": {},
     "output_type": "display_data"
    }
   ],
   "source": [
    "x1 <- c(1, 10)\n",
    "x2 <- c(4, 2)\n",
    "x1 + x2"
   ]
  },
  {
   "cell_type": "code",
   "execution_count": 36,
   "metadata": {
    "slideshow": {
     "slide_type": "subslide"
    }
   },
   "outputs": [
    {
     "data": {
      "text/html": [
       "<ol class=list-inline>\n",
       "\t<li>11</li>\n",
       "\t<li>23</li>\n",
       "\t<li>15</li>\n",
       "\t<li>27</li>\n",
       "</ol>\n"
      ],
      "text/latex": [
       "\\begin{enumerate*}\n",
       "\\item 11\n",
       "\\item 23\n",
       "\\item 15\n",
       "\\item 27\n",
       "\\end{enumerate*}\n"
      ],
      "text/markdown": [
       "1. 11\n",
       "2. 23\n",
       "3. 15\n",
       "4. 27\n",
       "\n",
       "\n"
      ],
      "text/plain": [
       "[1] 11 23 15 27"
      ]
     },
     "metadata": {},
     "output_type": "display_data"
    }
   ],
   "source": [
    "x1 <- c(10, 20)\n",
    "x2 <- c(1, 3, 5, 7)\n",
    "x1 + x2"
   ]
  },
  {
   "cell_type": "markdown",
   "metadata": {
    "slideshow": {
     "slide_type": "slide"
    }
   },
   "source": [
    "穿插逻辑型向量：\n",
    "\n",
    "逻辑值一般产生自比较，向量比较结果为逻辑型向量，比较运算符包括：\n",
    "\n",
    "```R\n",
    "<   <=  >  >=  ==  !=  %in%\n",
    "```\n",
    "\n",
    "常用于比较的变量有数值型变量和特殊变量"
   ]
  },
  {
   "cell_type": "code",
   "execution_count": 10,
   "metadata": {
    "slideshow": {
     "slide_type": "subslide"
    }
   },
   "outputs": [
    {
     "data": {
      "text/html": [
       "<ol class=list-inline>\n",
       "\t<li>FALSE</li>\n",
       "\t<li>FALSE</li>\n",
       "\t<li>TRUE</li>\n",
       "\t<li>FALSE</li>\n",
       "</ol>\n"
      ],
      "text/latex": [
       "\\begin{enumerate*}\n",
       "\\item FALSE\n",
       "\\item FALSE\n",
       "\\item TRUE\n",
       "\\item FALSE\n",
       "\\end{enumerate*}\n"
      ],
      "text/markdown": [
       "1. FALSE\n",
       "2. FALSE\n",
       "3. TRUE\n",
       "4. FALSE\n",
       "\n",
       "\n"
      ],
      "text/plain": [
       "[1] FALSE FALSE  TRUE FALSE"
      ]
     },
     "metadata": {},
     "output_type": "display_data"
    }
   ],
   "source": [
    "c(1, 3, 5, 2) > c(2, 4)"
   ]
  },
  {
   "cell_type": "code",
   "execution_count": 40,
   "metadata": {
    "slideshow": {
     "slide_type": "subslide"
    }
   },
   "outputs": [
    {
     "data": {
      "text/html": [
       "<ol class=list-inline>\n",
       "\t<li>FALSE</li>\n",
       "\t<li>TRUE</li>\n",
       "\t<li>FALSE</li>\n",
       "</ol>\n"
      ],
      "text/latex": [
       "\\begin{enumerate*}\n",
       "\\item FALSE\n",
       "\\item TRUE\n",
       "\\item FALSE\n",
       "\\end{enumerate*}\n"
      ],
      "text/markdown": [
       "1. FALSE\n",
       "2. TRUE\n",
       "3. FALSE\n",
       "\n",
       "\n"
      ],
      "text/plain": [
       "[1] FALSE  TRUE FALSE"
      ]
     },
     "metadata": {},
     "output_type": "display_data"
    }
   ],
   "source": [
    "is.na(c(1, NA, 3) > 2)"
   ]
  },
  {
   "cell_type": "markdown",
   "metadata": {
    "slideshow": {
     "slide_type": "subslide"
    }
   },
   "source": [
    "向量比较遵从R的向量间运算的一般规则： \n",
    "\n",
    "向量与标量的运算是向量每个元素与标量都分别运算一次，等长向量的运算时对应元素的运算，不等长但长度为倍数关系的向量运算是把短的从头重复利用。\n"
   ]
  },
  {
   "cell_type": "code",
   "execution_count": 42,
   "metadata": {
    "slideshow": {
     "slide_type": "fragment"
    }
   },
   "outputs": [
    {
     "name": "stderr",
     "output_type": "stream",
     "text": [
      "Warning message in c(1, 3, 5) > c(2, 4):\n",
      "\"长的对象长度不是短的对象长度的整倍数\""
     ]
    },
    {
     "data": {
      "text/html": [
       "<ol class=list-inline>\n",
       "\t<li>FALSE</li>\n",
       "\t<li>FALSE</li>\n",
       "\t<li>TRUE</li>\n",
       "</ol>\n"
      ],
      "text/latex": [
       "\\begin{enumerate*}\n",
       "\\item FALSE\n",
       "\\item FALSE\n",
       "\\item TRUE\n",
       "\\end{enumerate*}\n"
      ],
      "text/markdown": [
       "1. FALSE\n",
       "2. FALSE\n",
       "3. TRUE\n",
       "\n",
       "\n"
      ],
      "text/plain": [
       "[1] FALSE FALSE  TRUE"
      ]
     },
     "metadata": {},
     "output_type": "display_data"
    }
   ],
   "source": [
    "c(1, 3, 5) > c(2, 4)"
   ]
  },
  {
   "cell_type": "markdown",
   "metadata": {
    "slideshow": {
     "slide_type": "slide"
    }
   },
   "source": [
    "向量函数：\n",
    "\n",
    "先看看数值型向量的函数\n",
    "\n",
    "- 向量化的函数：R中的函数一般都是向量化的，如果普通的一元函数以向量为自变量，一般会对每个元素计算。例如：`sqrt`, `log10`, `log`, `exp`, `sin`, `cos`, `tan`。\n",
    "\n",
    "- 排序函数：`sort()`返回排序结果，`rev()`返回把各元素排列次序反转后的结果，`order()`返回排序用的下标。\n",
    "\n",
    "- 统计函数： 把输入向量看作样本，计算样本统计量。`sum`求和, `mean`求平均值, `var`求样本方差, `sd`求样本标准差, `min`求最小值, `max`求最大值, `range`求最小值和最大值\n"
   ]
  },
  {
   "cell_type": "code",
   "execution_count": 43,
   "metadata": {
    "slideshow": {
     "slide_type": "subslide"
    }
   },
   "outputs": [
    {
     "data": {
      "text/html": [
       "<ol class=list-inline>\n",
       "\t<li>1</li>\n",
       "\t<li>2</li>\n",
       "\t<li>2.5</li>\n",
       "</ol>\n"
      ],
      "text/latex": [
       "\\begin{enumerate*}\n",
       "\\item 1\n",
       "\\item 2\n",
       "\\item 2.5\n",
       "\\end{enumerate*}\n"
      ],
      "text/markdown": [
       "1. 1\n",
       "2. 2\n",
       "3. 2.5\n",
       "\n",
       "\n"
      ],
      "text/plain": [
       "[1] 1.0 2.0 2.5"
      ]
     },
     "metadata": {},
     "output_type": "display_data"
    }
   ],
   "source": [
    "sqrt(c(1, 4, 6.25))"
   ]
  },
  {
   "cell_type": "code",
   "execution_count": 44,
   "metadata": {
    "slideshow": {
     "slide_type": "subslide"
    }
   },
   "outputs": [
    {
     "data": {
      "text/html": [
       "<ol class=list-inline>\n",
       "\t<li>11</li>\n",
       "\t<li>33</li>\n",
       "\t<li>55</li>\n",
       "</ol>\n"
      ],
      "text/latex": [
       "\\begin{enumerate*}\n",
       "\\item 11\n",
       "\\item 33\n",
       "\\item 55\n",
       "\\end{enumerate*}\n"
      ],
      "text/markdown": [
       "1. 11\n",
       "2. 33\n",
       "3. 55\n",
       "\n",
       "\n"
      ],
      "text/plain": [
       "[1] 11 33 55"
      ]
     },
     "metadata": {},
     "output_type": "display_data"
    },
    {
     "data": {
      "text/html": [
       "<ol class=list-inline>\n",
       "\t<li>55</li>\n",
       "\t<li>33</li>\n",
       "\t<li>11</li>\n",
       "</ol>\n"
      ],
      "text/latex": [
       "\\begin{enumerate*}\n",
       "\\item 55\n",
       "\\item 33\n",
       "\\item 11\n",
       "\\end{enumerate*}\n"
      ],
      "text/markdown": [
       "1. 55\n",
       "2. 33\n",
       "3. 11\n",
       "\n",
       "\n"
      ],
      "text/plain": [
       "[1] 55 33 11"
      ]
     },
     "metadata": {},
     "output_type": "display_data"
    },
    {
     "data": {
      "text/html": [
       "<ol class=list-inline>\n",
       "\t<li>3</li>\n",
       "\t<li>1</li>\n",
       "\t<li>2</li>\n",
       "</ol>\n"
      ],
      "text/latex": [
       "\\begin{enumerate*}\n",
       "\\item 3\n",
       "\\item 1\n",
       "\\item 2\n",
       "\\end{enumerate*}\n"
      ],
      "text/markdown": [
       "1. 3\n",
       "2. 1\n",
       "3. 2\n",
       "\n",
       "\n"
      ],
      "text/plain": [
       "[1] 3 1 2"
      ]
     },
     "metadata": {},
     "output_type": "display_data"
    },
    {
     "data": {
      "text/html": [
       "<ol class=list-inline>\n",
       "\t<li>11</li>\n",
       "\t<li>33</li>\n",
       "\t<li>55</li>\n",
       "</ol>\n"
      ],
      "text/latex": [
       "\\begin{enumerate*}\n",
       "\\item 11\n",
       "\\item 33\n",
       "\\item 55\n",
       "\\end{enumerate*}\n"
      ],
      "text/markdown": [
       "1. 11\n",
       "2. 33\n",
       "3. 55\n",
       "\n",
       "\n"
      ],
      "text/plain": [
       "[1] 11 33 55"
      ]
     },
     "metadata": {},
     "output_type": "display_data"
    }
   ],
   "source": [
    "x <- c(33, 55, 11)\n",
    "# 排序\n",
    "sort(x)\n",
    "\n",
    "# 倒排序\n",
    "rev(sort(x))\n",
    "\n",
    "# 排序后的下标\n",
    "order(x)\n",
    "\n",
    "# 用排序后的下标来排序\n",
    "x[order(x)]"
   ]
  },
  {
   "cell_type": "code",
   "execution_count": 53,
   "metadata": {
    "slideshow": {
     "slide_type": "subslide"
    }
   },
   "outputs": [
    {
     "data": {
      "text/html": [
       "-0.965395985717229"
      ],
      "text/latex": [
       "-0.965395985717229"
      ],
      "text/markdown": [
       "-0.965395985717229"
      ],
      "text/plain": [
       "[1] -0.965396"
      ]
     },
     "metadata": {},
     "output_type": "display_data"
    },
    {
     "data": {
      "text/html": [
       "-0.193079197143446"
      ],
      "text/latex": [
       "-0.193079197143446"
      ],
      "text/markdown": [
       "-0.193079197143446"
      ],
      "text/plain": [
       "[1] -0.1930792"
      ]
     },
     "metadata": {},
     "output_type": "display_data"
    },
    {
     "data": {
      "text/html": [
       "3.77391084794291"
      ],
      "text/latex": [
       "3.77391084794291"
      ],
      "text/markdown": [
       "3.77391084794291"
      ],
      "text/plain": [
       "[1] 3.773911"
      ]
     },
     "metadata": {},
     "output_type": "display_data"
    },
    {
     "data": {
      "text/html": [
       "1.94265561743272"
      ],
      "text/latex": [
       "1.94265561743272"
      ],
      "text/markdown": [
       "1.94265561743272"
      ],
      "text/plain": [
       "[1] 1.942656"
      ]
     },
     "metadata": {},
     "output_type": "display_data"
    }
   ],
   "source": [
    "v<-rnorm(5,0,2)\n",
    "\n",
    "# 求和\n",
    "sum(v)\n",
    "\n",
    "# 求平均值\n",
    "mean(v)\n",
    "\n",
    "# 求样本方差\n",
    "var(v)\n",
    "\n",
    "# 求样本标准差\n",
    "sd(v)"
   ]
  },
  {
   "cell_type": "markdown",
   "metadata": {
    "slideshow": {
     "slide_type": "subslide"
    }
   },
   "source": [
    "看看与逻辑型向量有关的函数，主要与比较有关：\n",
    "\n",
    "- 若`cond`是逻辑向量， 用`all(cond)`测试`cond`的所有元素为真；用`any(cond)`测试`cond`至少一个元素为真；`cond`中允许有缺失值，结果可能为缺失值。\n",
    "- `which` 返回真值对应的所有下标\n",
    "- `identical(x,y)` 比较两个对象x和y的内容是否完全相同\n",
    "- `duplicated()` 返回每个元素是否为重复值的结果\n"
   ]
  },
  {
   "cell_type": "code",
   "execution_count": 55,
   "metadata": {
    "slideshow": {
     "slide_type": "subslide"
    }
   },
   "outputs": [
    {
     "data": {
      "text/html": [
       "<ol class=list-inline>\n",
       "\t<li>FALSE</li>\n",
       "\t<li>&lt;NA&gt;</li>\n",
       "\t<li>TRUE</li>\n",
       "</ol>\n"
      ],
      "text/latex": [
       "\\begin{enumerate*}\n",
       "\\item FALSE\n",
       "\\item <NA>\n",
       "\\item TRUE\n",
       "\\end{enumerate*}\n"
      ],
      "text/markdown": [
       "1. FALSE\n",
       "2. &lt;NA&gt;\n",
       "3. TRUE\n",
       "\n",
       "\n"
      ],
      "text/plain": [
       "[1] FALSE    NA  TRUE"
      ]
     },
     "metadata": {},
     "output_type": "display_data"
    },
    {
     "data": {
      "text/html": [
       "FALSE"
      ],
      "text/latex": [
       "FALSE"
      ],
      "text/markdown": [
       "FALSE"
      ],
      "text/plain": [
       "[1] FALSE"
      ]
     },
     "metadata": {},
     "output_type": "display_data"
    },
    {
     "data": {
      "text/html": [
       "TRUE"
      ],
      "text/latex": [
       "TRUE"
      ],
      "text/markdown": [
       "TRUE"
      ],
      "text/plain": [
       "[1] TRUE"
      ]
     },
     "metadata": {},
     "output_type": "display_data"
    },
    {
     "data": {
      "text/html": [
       "&lt;NA&gt;"
      ],
      "text/latex": [
       "<NA>"
      ],
      "text/markdown": [
       "&lt;NA&gt;"
      ],
      "text/plain": [
       "[1] NA"
      ]
     },
     "metadata": {},
     "output_type": "display_data"
    },
    {
     "data": {
      "text/html": [
       "&lt;NA&gt;"
      ],
      "text/latex": [
       "<NA>"
      ],
      "text/markdown": [
       "&lt;NA&gt;"
      ],
      "text/plain": [
       "[1] NA"
      ]
     },
     "metadata": {},
     "output_type": "display_data"
    }
   ],
   "source": [
    "c(1, NA, 3) > 2\n",
    "\n",
    "all(c(1, NA, 3) > 2)\n",
    "\n",
    "any(c(1, NA, 3) > 2)\n",
    "\n",
    "all(NA)\n",
    "\n",
    "any(NA)"
   ]
  },
  {
   "cell_type": "code",
   "execution_count": 56,
   "metadata": {
    "slideshow": {
     "slide_type": "subslide"
    }
   },
   "outputs": [
    {
     "data": {
      "text/html": [
       "FALSE"
      ],
      "text/latex": [
       "FALSE"
      ],
      "text/markdown": [
       "FALSE"
      ],
      "text/plain": [
       "[1] FALSE"
      ]
     },
     "metadata": {},
     "output_type": "display_data"
    },
    {
     "data": {
      "text/html": [
       "FALSE"
      ],
      "text/latex": [
       "FALSE"
      ],
      "text/markdown": [
       "FALSE"
      ],
      "text/plain": [
       "[1] FALSE"
      ]
     },
     "metadata": {},
     "output_type": "display_data"
    }
   ],
   "source": [
    "identical(c(1,2,3), c(1,2,NA))\n",
    "\n",
    "identical(c(1L,2L,3L), c(1,2,3))"
   ]
  },
  {
   "cell_type": "code",
   "execution_count": 57,
   "metadata": {
    "slideshow": {
     "slide_type": "subslide"
    }
   },
   "outputs": [
    {
     "data": {
      "text/html": [
       "<ol class=list-inline>\n",
       "\t<li>FALSE</li>\n",
       "\t<li>FALSE</li>\n",
       "\t<li>TRUE</li>\n",
       "\t<li>FALSE</li>\n",
       "\t<li>FALSE</li>\n",
       "\t<li>FALSE</li>\n",
       "\t<li>TRUE</li>\n",
       "</ol>\n"
      ],
      "text/latex": [
       "\\begin{enumerate*}\n",
       "\\item FALSE\n",
       "\\item FALSE\n",
       "\\item TRUE\n",
       "\\item FALSE\n",
       "\\item FALSE\n",
       "\\item FALSE\n",
       "\\item TRUE\n",
       "\\end{enumerate*}\n"
      ],
      "text/markdown": [
       "1. FALSE\n",
       "2. FALSE\n",
       "3. TRUE\n",
       "4. FALSE\n",
       "5. FALSE\n",
       "6. FALSE\n",
       "7. TRUE\n",
       "\n",
       "\n"
      ],
      "text/plain": [
       "[1] FALSE FALSE  TRUE FALSE FALSE FALSE  TRUE"
      ]
     },
     "metadata": {},
     "output_type": "display_data"
    }
   ],
   "source": [
    "duplicated(c(1,2,1,3,NA,4,NA))"
   ]
  },
  {
   "cell_type": "markdown",
   "metadata": {
    "slideshow": {
     "slide_type": "slide"
    }
   },
   "source": [
    "看看与字符型向量相关的函数：\n",
    "\n",
    "- `paste()`函数，用来连接两个字符型向量，默认用空格连接\n",
    "- `substr(x, start, stop)`函数，从字符串x中去除从第start个到第stop个的子串\n",
    "- `strsplit()`函数，把一个字符串按照某种分隔符拆分开\n",
    "- `gsub()`函数，替换字符串中的子串，支持正则表达式"
   ]
  },
  {
   "cell_type": "code",
   "execution_count": 59,
   "metadata": {
    "slideshow": {
     "slide_type": "subslide"
    }
   },
   "outputs": [
    {
     "data": {
      "text/html": [
       "<ol class=list-inline>\n",
       "\t<li>'x1'</li>\n",
       "\t<li>'x2'</li>\n",
       "\t<li>'x3'</li>\n",
       "</ol>\n"
      ],
      "text/latex": [
       "\\begin{enumerate*}\n",
       "\\item 'x1'\n",
       "\\item 'x2'\n",
       "\\item 'x3'\n",
       "\\end{enumerate*}\n"
      ],
      "text/markdown": [
       "1. 'x1'\n",
       "2. 'x2'\n",
       "3. 'x3'\n",
       "\n",
       "\n"
      ],
      "text/plain": [
       "[1] \"x1\" \"x2\" \"x3\""
      ]
     },
     "metadata": {},
     "output_type": "display_data"
    }
   ],
   "source": [
    "#？paste\n",
    "paste(\"x\", 1:3, sep=\"\")"
   ]
  },
  {
   "cell_type": "code",
   "execution_count": 61,
   "metadata": {
    "slideshow": {
     "slide_type": "subslide"
    }
   },
   "outputs": [
    {
     "data": {
      "text/html": [
       "<ol class=list-inline>\n",
       "\t<li>'JAN'</li>\n",
       "\t<li>'MAR'</li>\n",
       "</ol>\n"
      ],
      "text/latex": [
       "\\begin{enumerate*}\n",
       "\\item 'JAN'\n",
       "\\item 'MAR'\n",
       "\\end{enumerate*}\n"
      ],
      "text/markdown": [
       "1. 'JAN'\n",
       "2. 'MAR'\n",
       "\n",
       "\n"
      ],
      "text/plain": [
       "[1] \"JAN\" \"MAR\""
      ]
     },
     "metadata": {},
     "output_type": "display_data"
    }
   ],
   "source": [
    "#?substr\n",
    "substr(c('JAN07', 'MAR66'), 1, 3)"
   ]
  },
  {
   "cell_type": "code",
   "execution_count": 62,
   "metadata": {
    "slideshow": {
     "slide_type": "subslide"
    }
   },
   "outputs": [
    {
     "data": {
      "text/html": [
       "<ol class=list-inline>\n",
       "\t<li>'10'</li>\n",
       "\t<li>'8'</li>\n",
       "\t<li>'7'</li>\n",
       "</ol>\n"
      ],
      "text/latex": [
       "\\begin{enumerate*}\n",
       "\\item '10'\n",
       "\\item '8'\n",
       "\\item '7'\n",
       "\\end{enumerate*}\n"
      ],
      "text/markdown": [
       "1. '10'\n",
       "2. '8'\n",
       "3. '7'\n",
       "\n",
       "\n"
      ],
      "text/plain": [
       "[1] \"10\" \"8\"  \"7\" "
      ]
     },
     "metadata": {},
     "output_type": "display_data"
    }
   ],
   "source": [
    "#?strsplit\n",
    "x <- '10,8,7'\n",
    "strsplit(x, ',', fixed=TRUE)[[1]]"
   ]
  },
  {
   "cell_type": "code",
   "execution_count": 63,
   "metadata": {
    "slideshow": {
     "slide_type": "subslide"
    }
   },
   "outputs": [
    {
     "data": {
      "text/html": [
       "'1, 3, 5'"
      ],
      "text/latex": [
       "'1, 3, 5'"
      ],
      "text/markdown": [
       "'1, 3, 5'"
      ],
      "text/plain": [
       "[1] \"1, 3, 5\""
      ]
     },
     "metadata": {},
     "output_type": "display_data"
    }
   ],
   "source": [
    "x <- '1, 3; 5'\n",
    "gsub(';', ',', x, fixed=TRUE)"
   ]
  },
  {
   "cell_type": "markdown",
   "metadata": {
    "slideshow": {
     "slide_type": "slide"
    }
   },
   "source": [
    "### 向量的下标与子集\n",
    "\n",
    "对向量x, 在后面加方括号和下标可以访问向量的元素和子集，有关下标的知识比较多且比较重要：\n",
    "\n",
    "- 正整数下标\n",
    "- 负整数下标\n",
    "- 空下标\n",
    "- 下标超界\n",
    "- 逻辑下标\n",
    "- `which`函数\n",
    "- 元素名\n",
    "- 下标映射\n",
    "- 集合运算\n"
   ]
  },
  {
   "cell_type": "code",
   "execution_count": 69,
   "metadata": {
    "slideshow": {
     "slide_type": "subslide"
    }
   },
   "outputs": [
    {
     "data": {
      "text/html": [
       "4"
      ],
      "text/latex": [
       "4"
      ],
      "text/markdown": [
       "4"
      ],
      "text/plain": [
       "[1] 4"
      ]
     },
     "metadata": {},
     "output_type": "display_data"
    },
    {
     "data": {
      "text/html": [
       "<ol class=list-inline>\n",
       "\t<li>1</li>\n",
       "\t<li>99</li>\n",
       "\t<li>6.25</li>\n",
       "</ol>\n"
      ],
      "text/latex": [
       "\\begin{enumerate*}\n",
       "\\item 1\n",
       "\\item 99\n",
       "\\item 6.25\n",
       "\\end{enumerate*}\n"
      ],
      "text/markdown": [
       "1. 1\n",
       "2. 99\n",
       "3. 6.25\n",
       "\n",
       "\n"
      ],
      "text/plain": [
       "[1]  1.00 99.00  6.25"
      ]
     },
     "metadata": {},
     "output_type": "display_data"
    },
    {
     "data": {
      "text/html": [
       "<ol class=list-inline>\n",
       "\t<li>1</li>\n",
       "\t<li>6.25</li>\n",
       "</ol>\n"
      ],
      "text/latex": [
       "\\begin{enumerate*}\n",
       "\\item 1\n",
       "\\item 6.25\n",
       "\\end{enumerate*}\n"
      ],
      "text/markdown": [
       "1. 1\n",
       "2. 6.25\n",
       "\n",
       "\n"
      ],
      "text/plain": [
       "[1] 1.00 6.25"
      ]
     },
     "metadata": {},
     "output_type": "display_data"
    },
    {
     "data": {
      "text/html": [
       "<ol class=list-inline>\n",
       "\t<li>11</li>\n",
       "\t<li>99</li>\n",
       "\t<li>13</li>\n",
       "</ol>\n"
      ],
      "text/latex": [
       "\\begin{enumerate*}\n",
       "\\item 11\n",
       "\\item 99\n",
       "\\item 13\n",
       "\\end{enumerate*}\n"
      ],
      "text/markdown": [
       "1. 11\n",
       "2. 99\n",
       "3. 13\n",
       "\n",
       "\n"
      ],
      "text/plain": [
       "[1] 11 99 13"
      ]
     },
     "metadata": {},
     "output_type": "display_data"
    }
   ],
   "source": [
    "# 取出第二个元素\n",
    "x <- c(1, 4, 6.25)\n",
    "x[2]\n",
    "\n",
    "# 修改第二个元素\n",
    "x[2] <- 99; x\n",
    "\n",
    "# 取出第1、3号元素\n",
    "x[c(1,3)]\n",
    "\n",
    "# 修改第1、3号元素\n",
    "x[c(1,3)] <- c(11, 13);x"
   ]
  },
  {
   "cell_type": "markdown",
   "metadata": {
    "slideshow": {
     "slide_type": "subslide"
    }
   },
   "source": [
    "负下标表示扣除相应的元素后的子集"
   ]
  },
  {
   "cell_type": "code",
   "execution_count": 71,
   "metadata": {
    "slideshow": {
     "slide_type": "fragment"
    }
   },
   "outputs": [
    {
     "data": {
      "text/html": [
       "<ol class=list-inline>\n",
       "\t<li>1</li>\n",
       "\t<li>6.25</li>\n",
       "</ol>\n"
      ],
      "text/latex": [
       "\\begin{enumerate*}\n",
       "\\item 1\n",
       "\\item 6.25\n",
       "\\end{enumerate*}\n"
      ],
      "text/markdown": [
       "1. 1\n",
       "2. 6.25\n",
       "\n",
       "\n"
      ],
      "text/plain": [
       "[1] 1.00 6.25"
      ]
     },
     "metadata": {},
     "output_type": "display_data"
    },
    {
     "data": {
      "text/html": [
       "4"
      ],
      "text/latex": [
       "4"
      ],
      "text/markdown": [
       "4"
      ],
      "text/plain": [
       "[1] 4"
      ]
     },
     "metadata": {},
     "output_type": "display_data"
    }
   ],
   "source": [
    "x <- c(1,4,6.25)\n",
    "x[-2]\n",
    "x[-c(1,3)]"
   ]
  },
  {
   "cell_type": "markdown",
   "metadata": {
    "slideshow": {
     "slide_type": "subslide"
    }
   },
   "source": [
    "`x[]`表示取x的全部元素作为子集，这与x本身不同"
   ]
  },
  {
   "cell_type": "code",
   "execution_count": 123,
   "metadata": {
    "slideshow": {
     "slide_type": "fragment"
    }
   },
   "outputs": [
    {
     "data": {
      "text/html": [
       "<ol class=list-inline>\n",
       "\t<li>999</li>\n",
       "\t<li>999</li>\n",
       "\t<li>999</li>\n",
       "</ol>\n"
      ],
      "text/latex": [
       "\\begin{enumerate*}\n",
       "\\item 999\n",
       "\\item 999\n",
       "\\item 999\n",
       "\\end{enumerate*}\n"
      ],
      "text/markdown": [
       "1. 999\n",
       "2. 999\n",
       "3. 999\n",
       "\n",
       "\n"
      ],
      "text/plain": [
       "[1] 999 999 999"
      ]
     },
     "metadata": {},
     "output_type": "display_data"
    }
   ],
   "source": [
    "x <- c(1,4,6.25)\n",
    "x[] <- 999\n",
    "x"
   ]
  },
  {
   "cell_type": "markdown",
   "metadata": {
    "slideshow": {
     "slide_type": "subslide"
    }
   },
   "source": [
    "设向量x长度为，则使用正整数下标时下标应在{1,2,...,n}中取值。如果使用大于n的下标，读取时返回缺失值，并不出错。给超出n的下标元素赋值，则向量自动变长， 中间没有赋值的元素为缺失值。 "
   ]
  },
  {
   "cell_type": "code",
   "execution_count": 72,
   "metadata": {
    "slideshow": {
     "slide_type": "fragment"
    }
   },
   "outputs": [
    {
     "data": {
      "text/html": [
       "&lt;NA&gt;"
      ],
      "text/latex": [
       "<NA>"
      ],
      "text/markdown": [
       "&lt;NA&gt;"
      ],
      "text/plain": [
       "[1] NA"
      ]
     },
     "metadata": {},
     "output_type": "display_data"
    }
   ],
   "source": [
    "x <- c(1,4,6.25)\n",
    "x[5]"
   ]
  },
  {
   "cell_type": "code",
   "execution_count": 73,
   "metadata": {
    "slideshow": {
     "slide_type": "fragment"
    }
   },
   "outputs": [
    {
     "data": {
      "text/html": [
       "<ol class=list-inline>\n",
       "\t<li>1</li>\n",
       "\t<li>4</li>\n",
       "\t<li>6.25</li>\n",
       "\t<li>&lt;NA&gt;</li>\n",
       "\t<li>9</li>\n",
       "</ol>\n"
      ],
      "text/latex": [
       "\\begin{enumerate*}\n",
       "\\item 1\n",
       "\\item 4\n",
       "\\item 6.25\n",
       "\\item <NA>\n",
       "\\item 9\n",
       "\\end{enumerate*}\n"
      ],
      "text/markdown": [
       "1. 1\n",
       "2. 4\n",
       "3. 6.25\n",
       "4. &lt;NA&gt;\n",
       "5. 9\n",
       "\n",
       "\n"
      ],
      "text/plain": [
       "[1] 1.00 4.00 6.25   NA 9.00"
      ]
     },
     "metadata": {},
     "output_type": "display_data"
    }
   ],
   "source": [
    "x[5] <- 9\n",
    "x"
   ]
  },
  {
   "cell_type": "markdown",
   "metadata": {
    "slideshow": {
     "slide_type": "subslide"
    }
   },
   "source": [
    "下标可以是与向量等长的逻辑表达式，一般是关于本向量或者与本向量等长的其它向量的比较结果，主要用于对向量或者数据框取子集；要注意的是，如果逻辑下标中有缺失值，对应结果也是缺失值。所以，在用逻辑下标作子集选择时，一定要考虑到缺失值问题，正确的做法是加上`!is.na`前提。\n"
   ]
  },
  {
   "cell_type": "code",
   "execution_count": 75,
   "metadata": {
    "slideshow": {
     "slide_type": "fragment"
    }
   },
   "outputs": [
    {
     "data": {
      "text/html": [
       "<ol class=list-inline>\n",
       "\t<li>4</li>\n",
       "\t<li>6.25</li>\n",
       "</ol>\n"
      ],
      "text/latex": [
       "\\begin{enumerate*}\n",
       "\\item 4\n",
       "\\item 6.25\n",
       "\\end{enumerate*}\n"
      ],
      "text/markdown": [
       "1. 4\n",
       "2. 6.25\n",
       "\n",
       "\n"
      ],
      "text/plain": [
       "[1] 4.00 6.25"
      ]
     },
     "metadata": {},
     "output_type": "display_data"
    },
    {
     "data": {
      "text/html": [
       "<ol class=list-inline>\n",
       "\t<li>4</li>\n",
       "\t<li>6.25</li>\n",
       "\t<li>&lt;NA&gt;</li>\n",
       "</ol>\n"
      ],
      "text/latex": [
       "\\begin{enumerate*}\n",
       "\\item 4\n",
       "\\item 6.25\n",
       "\\item <NA>\n",
       "\\end{enumerate*}\n"
      ],
      "text/markdown": [
       "1. 4\n",
       "2. 6.25\n",
       "3. &lt;NA&gt;\n",
       "\n",
       "\n"
      ],
      "text/plain": [
       "[1] 4.00 6.25   NA"
      ]
     },
     "metadata": {},
     "output_type": "display_data"
    },
    {
     "data": {
      "text/html": [
       "<ol class=list-inline>\n",
       "\t<li>4</li>\n",
       "\t<li>6.25</li>\n",
       "</ol>\n"
      ],
      "text/latex": [
       "\\begin{enumerate*}\n",
       "\\item 4\n",
       "\\item 6.25\n",
       "\\end{enumerate*}\n"
      ],
      "text/markdown": [
       "1. 4\n",
       "2. 6.25\n",
       "\n",
       "\n"
      ],
      "text/plain": [
       "[1] 4.00 6.25"
      ]
     },
     "metadata": {},
     "output_type": "display_data"
    }
   ],
   "source": [
    "x <- c(1,4,6.25)\n",
    "x[x > 3]\n",
    "\n",
    "x <- c(1, 4, 6.25, NA)\n",
    "x[x > 2]\n",
    "x[!is.na(x) & x > 2]\n"
   ]
  },
  {
   "cell_type": "markdown",
   "metadata": {
    "slideshow": {
     "slide_type": "subslide"
    }
   },
   "source": [
    "`which()`函数常常用于提供满足条件的逻辑下表"
   ]
  },
  {
   "cell_type": "code",
   "execution_count": 76,
   "metadata": {
    "slideshow": {
     "slide_type": "fragment"
    }
   },
   "outputs": [
    {
     "data": {
      "text/html": [
       "<ol class=list-inline>\n",
       "\t<li>5</li>\n",
       "\t<li>7</li>\n",
       "</ol>\n"
      ],
      "text/latex": [
       "\\begin{enumerate*}\n",
       "\\item 5\n",
       "\\item 7\n",
       "\\end{enumerate*}\n"
      ],
      "text/markdown": [
       "1. 5\n",
       "2. 7\n",
       "\n",
       "\n"
      ],
      "text/plain": [
       "[1] 5 7"
      ]
     },
     "metadata": {},
     "output_type": "display_data"
    },
    {
     "data": {
      "text/html": [
       "1"
      ],
      "text/latex": [
       "1"
      ],
      "text/markdown": [
       "1"
      ],
      "text/plain": [
       "[1] 1"
      ]
     },
     "metadata": {},
     "output_type": "display_data"
    },
    {
     "data": {
      "text/html": [
       "7"
      ],
      "text/latex": [
       "7"
      ],
      "text/markdown": [
       "7"
      ],
      "text/plain": [
       "[1] 7"
      ]
     },
     "metadata": {},
     "output_type": "display_data"
    }
   ],
   "source": [
    "x <- c(3, 4, 3, 5, 7, 5, 9)\n",
    "which(x > 5)\n",
    "\n",
    "which.min(x)\n",
    "\n",
    "which.max(x)"
   ]
  },
  {
   "cell_type": "markdown",
   "metadata": {
    "slideshow": {
     "slide_type": "subslide"
    }
   },
   "source": [
    "向量可以为每个元素命名，并且用元素名或元素名向量作为向量的下标"
   ]
  },
  {
   "cell_type": "code",
   "execution_count": 79,
   "metadata": {
    "slideshow": {
     "slide_type": "fragment"
    }
   },
   "outputs": [
    {
     "data": {
      "text/html": [
       "<strong>张聪:</strong> 25"
      ],
      "text/latex": [
       "\\textbf{张聪:} 25"
      ],
      "text/markdown": [
       "**张聪:** 25"
      ],
      "text/plain": [
       "张聪 \n",
       "  25 "
      ]
     },
     "metadata": {},
     "output_type": "display_data"
    },
    {
     "data": {
      "text/html": [
       "<dl class=dl-horizontal>\n",
       "\t<dt>李明</dt>\n",
       "\t\t<dd>30</dd>\n",
       "\t<dt>刘颖</dt>\n",
       "\t\t<dd>28</dd>\n",
       "</dl>\n"
      ],
      "text/latex": [
       "\\begin{description*}\n",
       "\\item[李明] 30\n",
       "\\item[刘颖] 28\n",
       "\\end{description*}\n"
      ],
      "text/markdown": [
       "李明\n",
       ":   30刘颖\n",
       ":   28\n",
       "\n"
      ],
      "text/plain": [
       "李明 刘颖 \n",
       "  30   28 "
      ]
     },
     "metadata": {},
     "output_type": "display_data"
    }
   ],
   "source": [
    "ages <- c(\"李明\"=30, \"张聪\"=25, \"刘颖\"=28)\n",
    "ages[\"张聪\"]\n",
    "ages[c(\"李明\", \"刘颖\")]"
   ]
  },
  {
   "cell_type": "markdown",
   "metadata": {
    "slideshow": {
     "slide_type": "subslide"
    }
   },
   "source": [
    "为向量的元素命名，实际上建立了字符串到数值的映射表，而R向量支持多种下标映射表，比如整数向量和字符型向量"
   ]
  },
  {
   "cell_type": "code",
   "execution_count": 81,
   "metadata": {
    "slideshow": {
     "slide_type": "fragment"
    }
   },
   "outputs": [
    {
     "name": "stdout",
     "output_type": "stream",
     "text": [
      "[1] 168  88  68  68  88  88 168\n"
     ]
    }
   ],
   "source": [
    "price.map <- c(68, 88, 168)\n",
    "items <- c(3,2,1,1,2,2,3)\n",
    "y <- price.map[items]; print(y)"
   ]
  },
  {
   "cell_type": "code",
   "execution_count": 83,
   "metadata": {
    "slideshow": {
     "slide_type": "fragment"
    }
   },
   "outputs": [
    {
     "name": "stdout",
     "output_type": "stream",
     "text": [
      "    男     男     女     女     男     女     女     女     女     男 \n",
      "\"blue\" \"blue\"  \"red\"  \"red\" \"blue\"  \"red\"  \"red\"  \"red\"  \"red\" \"blue\" \n"
     ]
    },
    {
     "data": {
      "text/html": [
       "<ol class=list-inline>\n",
       "\t<li>'blue'</li>\n",
       "\t<li>'blue'</li>\n",
       "\t<li>'red'</li>\n",
       "\t<li>'red'</li>\n",
       "\t<li>'blue'</li>\n",
       "\t<li>'red'</li>\n",
       "\t<li>'red'</li>\n",
       "\t<li>'red'</li>\n",
       "\t<li>'red'</li>\n",
       "\t<li>'blue'</li>\n",
       "</ol>\n"
      ],
      "text/latex": [
       "\\begin{enumerate*}\n",
       "\\item 'blue'\n",
       "\\item 'blue'\n",
       "\\item 'red'\n",
       "\\item 'red'\n",
       "\\item 'blue'\n",
       "\\item 'red'\n",
       "\\item 'red'\n",
       "\\item 'red'\n",
       "\\item 'red'\n",
       "\\item 'blue'\n",
       "\\end{enumerate*}\n"
      ],
      "text/markdown": [
       "1. 'blue'\n",
       "2. 'blue'\n",
       "3. 'red'\n",
       "4. 'red'\n",
       "5. 'blue'\n",
       "6. 'red'\n",
       "7. 'red'\n",
       "8. 'red'\n",
       "9. 'red'\n",
       "10. 'blue'\n",
       "\n",
       "\n"
      ],
      "text/plain": [
       " [1] \"blue\" \"blue\" \"red\"  \"red\"  \"blue\" \"red\"  \"red\"  \"red\"  \"red\"  \"blue\""
      ]
     },
     "metadata": {},
     "output_type": "display_data"
    }
   ],
   "source": [
    "sex.color <- c('男'='blue', '女'='red')\n",
    "sex <- c(\"男\", \"男\", \"女\", \"女\", \"男\", \"女\", \"女\", \"女\", \"女\", \"男\")\n",
    "cols <- sex.color[sex]; print(cols)\n",
    "unname(cols)"
   ]
  },
  {
   "cell_type": "markdown",
   "metadata": {
    "slideshow": {
     "slide_type": "slide"
    }
   },
   "source": [
    "练习：\n",
    "\n",
    "把上述文件class.csv读入为R数据框d.class, 并取出其中的name和age列到变量name和age中，代码如下\n",
    "```\n",
    "d.class <- read.csv('class.csv', header=TRUE, stringsAsFactors=FALSE)\n",
    "name <- d.class[,'name']\n",
    "age <- d.class[,'age']\n",
    "```\n",
    "需要完成：\n",
    "\n",
    "1. 求出age中第3, 5, 7号的值；\n",
    "2. 用变量age, 求出达到15岁及以上的那些值；\n",
    "3. 用变量name和age, 求出Mary与James的年龄;\n",
    "4. 求age中除Mary与James这两人之外的那些人的年龄值，保存到变量age1中;\n",
    "\n"
   ]
  },
  {
   "cell_type": "code",
   "execution_count": 90,
   "metadata": {
    "slideshow": {
     "slide_type": "subslide"
    }
   },
   "outputs": [
    {
     "name": "stdout",
     "output_type": "stream",
     "text": [
      "'data.frame':\t19 obs. of  5 variables:\n",
      " $ name  : chr  \"Alice\" \"Becka\" \"Gail\" \"Karen\" ...\n",
      " $ sex   : chr  \"F\" \"F\" \"F\" \"F\" ...\n",
      " $ age   : int  13 13 14 12 12 15 11 15 14 14 ...\n",
      " $ height: num  56.5 65.3 64.3 56.3 59.8 66.5 51.3 62.5 62.8 69 ...\n",
      " $ weight: num  84 98 90 77 84.5 ...\n"
     ]
    },
    {
     "data": {
      "text/html": [
       "<table>\n",
       "<thead><tr><th scope=col>name</th><th scope=col>sex</th><th scope=col>age</th><th scope=col>height</th><th scope=col>weight</th></tr></thead>\n",
       "<tbody>\n",
       "\t<tr><td>Alice</td><td>F    </td><td>13   </td><td>56.5 </td><td> 84.0</td></tr>\n",
       "\t<tr><td>Becka</td><td>F    </td><td>13   </td><td>65.3 </td><td> 98.0</td></tr>\n",
       "\t<tr><td>Gail </td><td>F    </td><td>14   </td><td>64.3 </td><td> 90.0</td></tr>\n",
       "\t<tr><td>Karen</td><td>F    </td><td>12   </td><td>56.3 </td><td> 77.0</td></tr>\n",
       "\t<tr><td>Kathy</td><td>F    </td><td>12   </td><td>59.8 </td><td> 84.5</td></tr>\n",
       "\t<tr><td>Mary </td><td>F    </td><td>15   </td><td>66.5 </td><td>112.0</td></tr>\n",
       "</tbody>\n",
       "</table>\n"
      ],
      "text/latex": [
       "\\begin{tabular}{r|lllll}\n",
       " name & sex & age & height & weight\\\\\n",
       "\\hline\n",
       "\t Alice & F     & 13    & 56.5  &  84.0\\\\\n",
       "\t Becka & F     & 13    & 65.3  &  98.0\\\\\n",
       "\t Gail  & F     & 14    & 64.3  &  90.0\\\\\n",
       "\t Karen & F     & 12    & 56.3  &  77.0\\\\\n",
       "\t Kathy & F     & 12    & 59.8  &  84.5\\\\\n",
       "\t Mary  & F     & 15    & 66.5  & 112.0\\\\\n",
       "\\end{tabular}\n"
      ],
      "text/markdown": [
       "\n",
       "| name | sex | age | height | weight |\n",
       "|---|---|---|---|---|\n",
       "| Alice | F     | 13    | 56.5  |  84.0 |\n",
       "| Becka | F     | 13    | 65.3  |  98.0 |\n",
       "| Gail  | F     | 14    | 64.3  |  90.0 |\n",
       "| Karen | F     | 12    | 56.3  |  77.0 |\n",
       "| Kathy | F     | 12    | 59.8  |  84.5 |\n",
       "| Mary  | F     | 15    | 66.5  | 112.0 |\n",
       "\n"
      ],
      "text/plain": [
       "  name  sex age height weight\n",
       "1 Alice F   13  56.5    84.0 \n",
       "2 Becka F   13  65.3    98.0 \n",
       "3 Gail  F   14  64.3    90.0 \n",
       "4 Karen F   12  56.3    77.0 \n",
       "5 Kathy F   12  59.8    84.5 \n",
       "6 Mary  F   15  66.5   112.0 "
      ]
     },
     "metadata": {},
     "output_type": "display_data"
    }
   ],
   "source": [
    "d.class <- read.csv('./materials/class.csv', header=TRUE, stringsAsFactors=FALSE)\n",
    "name <- d.class[,'name']\n",
    "age <- d.class[,'age']\n",
    "str(d.class)\n",
    "head(d.class)"
   ]
  },
  {
   "cell_type": "code",
   "execution_count": 88,
   "metadata": {
    "slideshow": {
     "slide_type": "subslide"
    }
   },
   "outputs": [
    {
     "data": {
      "text/html": [
       "<ol class=list-inline>\n",
       "\t<li>14</li>\n",
       "\t<li>12</li>\n",
       "\t<li>11</li>\n",
       "</ol>\n"
      ],
      "text/latex": [
       "\\begin{enumerate*}\n",
       "\\item 14\n",
       "\\item 12\n",
       "\\item 11\n",
       "\\end{enumerate*}\n"
      ],
      "text/markdown": [
       "1. 14\n",
       "2. 12\n",
       "3. 11\n",
       "\n",
       "\n"
      ],
      "text/plain": [
       "[1] 14 12 11"
      ]
     },
     "metadata": {},
     "output_type": "display_data"
    }
   ],
   "source": [
    "age[c(3,5,7)]"
   ]
  },
  {
   "cell_type": "code",
   "execution_count": 98,
   "metadata": {
    "slideshow": {
     "slide_type": "subslide"
    }
   },
   "outputs": [
    {
     "data": {
      "text/html": [
       "<table>\n",
       "<thead><tr><th></th><th scope=col>name</th><th scope=col>sex</th><th scope=col>age</th><th scope=col>height</th><th scope=col>weight</th></tr></thead>\n",
       "<tbody>\n",
       "\t<tr><th scope=row>16</th><td>Philip</td><td>M     </td><td>16    </td><td>72    </td><td>150   </td></tr>\n",
       "</tbody>\n",
       "</table>\n"
      ],
      "text/latex": [
       "\\begin{tabular}{r|lllll}\n",
       "  & name & sex & age & height & weight\\\\\n",
       "\\hline\n",
       "\t16 & Philip & M      & 16     & 72     & 150   \\\\\n",
       "\\end{tabular}\n"
      ],
      "text/markdown": [
       "\n",
       "| <!--/--> | name | sex | age | height | weight |\n",
       "|---|---|---|---|---|---|\n",
       "| 16 | Philip | M      | 16     | 72     | 150    |\n",
       "\n"
      ],
      "text/plain": [
       "   name   sex age height weight\n",
       "16 Philip M   16  72     150   "
      ]
     },
     "metadata": {},
     "output_type": "display_data"
    }
   ],
   "source": [
    "d.class[which(age>15),]"
   ]
  },
  {
   "cell_type": "code",
   "execution_count": 100,
   "metadata": {
    "slideshow": {
     "slide_type": "subslide"
    }
   },
   "outputs": [
    {
     "data": {
      "text/html": [
       "15"
      ],
      "text/latex": [
       "15"
      ],
      "text/markdown": [
       "15"
      ],
      "text/plain": [
       "[1] 15"
      ]
     },
     "metadata": {},
     "output_type": "display_data"
    },
    {
     "data": {
      "text/html": [
       "12"
      ],
      "text/latex": [
       "12"
      ],
      "text/markdown": [
       "12"
      ],
      "text/plain": [
       "[1] 12"
      ]
     },
     "metadata": {},
     "output_type": "display_data"
    }
   ],
   "source": [
    "age[which(name=='Mary')]\n",
    "age[which(name=='James')]"
   ]
  },
  {
   "cell_type": "code",
   "execution_count": 103,
   "metadata": {
    "slideshow": {
     "slide_type": "subslide"
    }
   },
   "outputs": [
    {
     "data": {
      "text/html": [
       "<ol class=list-inline>\n",
       "\t<li>13</li>\n",
       "\t<li>13</li>\n",
       "\t<li>14</li>\n",
       "\t<li>12</li>\n",
       "\t<li>12</li>\n",
       "\t<li>15</li>\n",
       "\t<li>11</li>\n",
       "\t<li>15</li>\n",
       "\t<li>14</li>\n",
       "\t<li>14</li>\n",
       "\t<li>14</li>\n",
       "\t<li>15</li>\n",
       "\t<li>12</li>\n",
       "\t<li>13</li>\n",
       "\t<li>12</li>\n",
       "\t<li>16</li>\n",
       "\t<li>12</li>\n",
       "\t<li>11</li>\n",
       "\t<li>15</li>\n",
       "</ol>\n"
      ],
      "text/latex": [
       "\\begin{enumerate*}\n",
       "\\item 13\n",
       "\\item 13\n",
       "\\item 14\n",
       "\\item 12\n",
       "\\item 12\n",
       "\\item 15\n",
       "\\item 11\n",
       "\\item 15\n",
       "\\item 14\n",
       "\\item 14\n",
       "\\item 14\n",
       "\\item 15\n",
       "\\item 12\n",
       "\\item 13\n",
       "\\item 12\n",
       "\\item 16\n",
       "\\item 12\n",
       "\\item 11\n",
       "\\item 15\n",
       "\\end{enumerate*}\n"
      ],
      "text/markdown": [
       "1. 13\n",
       "2. 13\n",
       "3. 14\n",
       "4. 12\n",
       "5. 12\n",
       "6. 15\n",
       "7. 11\n",
       "8. 15\n",
       "9. 14\n",
       "10. 14\n",
       "11. 14\n",
       "12. 15\n",
       "13. 12\n",
       "14. 13\n",
       "15. 12\n",
       "16. 16\n",
       "17. 12\n",
       "18. 11\n",
       "19. 15\n",
       "\n",
       "\n"
      ],
      "text/plain": [
       " [1] 13 13 14 12 12 15 11 15 14 14 14 15 12 13 12 16 12 11 15"
      ]
     },
     "metadata": {},
     "output_type": "display_data"
    }
   ],
   "source": [
    "age1<-age[name!='Mary' || name!='James']\n",
    "age1"
   ]
  },
  {
   "cell_type": "markdown",
   "metadata": {
    "slideshow": {
     "slide_type": "slide"
    }
   },
   "source": [
    "### 矩阵\n",
    "\n",
    "在 R 语言中，矩阵是一种特殊类型的向量。矩阵是数据元素以二维矩形排布的集合，矩阵有行和列。\n",
    "\n",
    "一般使用 `matrix()` 函数创建，矩阵元素可以通过列和行的索引来引用，了解简单的矩阵操作：\n",
    "- 维度\n",
    "- 子集\n",
    "- 合并"
   ]
  },
  {
   "cell_type": "code",
   "execution_count": 11,
   "metadata": {
    "slideshow": {
     "slide_type": "subslide"
    }
   },
   "outputs": [
    {
     "name": "stdout",
     "output_type": "stream",
     "text": [
      "     [,1] [,2] [,3]\n",
      "[1,]    1    3   12\n",
      "[2,]    2   11   13\n",
      "[1] 11\n"
     ]
    }
   ],
   "source": [
    "?matrix\n",
    "mdat<-matrix(c(1,2,3,11,12,13),nrow=2,ncol=3)\n",
    "print(mdat)\n",
    "\n",
    "print(mdat[2,2])"
   ]
  },
  {
   "cell_type": "code",
   "execution_count": 120,
   "metadata": {
    "slideshow": {
     "slide_type": "subslide"
    }
   },
   "outputs": [
    {
     "data": {
      "text/html": [
       "2"
      ],
      "text/latex": [
       "2"
      ],
      "text/markdown": [
       "2"
      ],
      "text/plain": [
       "[1] 2"
      ]
     },
     "metadata": {},
     "output_type": "display_data"
    },
    {
     "data": {
      "text/html": [
       "3"
      ],
      "text/latex": [
       "3"
      ],
      "text/markdown": [
       "3"
      ],
      "text/plain": [
       "[1] 3"
      ]
     },
     "metadata": {},
     "output_type": "display_data"
    },
    {
     "data": {
      "text/html": [
       "<ol class=list-inline>\n",
       "\t<li>2</li>\n",
       "\t<li>3</li>\n",
       "</ol>\n"
      ],
      "text/latex": [
       "\\begin{enumerate*}\n",
       "\\item 2\n",
       "\\item 3\n",
       "\\end{enumerate*}\n"
      ],
      "text/markdown": [
       "1. 2\n",
       "2. 3\n",
       "\n",
       "\n"
      ],
      "text/plain": [
       "[1] 2 3"
      ]
     },
     "metadata": {},
     "output_type": "display_data"
    }
   ],
   "source": [
    "# 维度\n",
    "\n",
    "nrow(mdat)\n",
    "\n",
    "ncol(mdat)\n",
    "\n",
    "dim(mdat)"
   ]
  },
  {
   "cell_type": "code",
   "execution_count": 125,
   "metadata": {
    "slideshow": {
     "slide_type": "subslide"
    }
   },
   "outputs": [
    {
     "data": {
      "text/html": [
       "<ol class=list-inline>\n",
       "\t<li>1</li>\n",
       "\t<li>3</li>\n",
       "\t<li>12</li>\n",
       "</ol>\n"
      ],
      "text/latex": [
       "\\begin{enumerate*}\n",
       "\\item 1\n",
       "\\item 3\n",
       "\\item 12\n",
       "\\end{enumerate*}\n"
      ],
      "text/markdown": [
       "1. 1\n",
       "2. 3\n",
       "3. 12\n",
       "\n",
       "\n"
      ],
      "text/plain": [
       "[1]  1  3 12"
      ]
     },
     "metadata": {},
     "output_type": "display_data"
    },
    {
     "data": {
      "text/html": [
       "<ol class=list-inline>\n",
       "\t<li>1</li>\n",
       "\t<li>2</li>\n",
       "</ol>\n"
      ],
      "text/latex": [
       "\\begin{enumerate*}\n",
       "\\item 1\n",
       "\\item 2\n",
       "\\end{enumerate*}\n"
      ],
      "text/markdown": [
       "1. 1\n",
       "2. 2\n",
       "\n",
       "\n"
      ],
      "text/plain": [
       "[1] 1 2"
      ]
     },
     "metadata": {},
     "output_type": "display_data"
    },
    {
     "data": {
      "text/html": [
       "<table>\n",
       "<tbody>\n",
       "\t<tr><td>1 </td><td>12</td></tr>\n",
       "\t<tr><td>2 </td><td>13</td></tr>\n",
       "</tbody>\n",
       "</table>\n"
      ],
      "text/latex": [
       "\\begin{tabular}{ll}\n",
       "\t 1  & 12\\\\\n",
       "\t 2  & 13\\\\\n",
       "\\end{tabular}\n"
      ],
      "text/markdown": [
       "\n",
       "| 1  | 12 |\n",
       "| 2  | 13 |\n",
       "\n"
      ],
      "text/plain": [
       "     [,1] [,2]\n",
       "[1,] 1    12  \n",
       "[2,] 2    13  "
      ]
     },
     "metadata": {},
     "output_type": "display_data"
    }
   ],
   "source": [
    "# 子集\n",
    "\n",
    "mdat[1,]\n",
    "\n",
    "mdat[,1]\n",
    "\n",
    "mdat[1:2, c(1,3)]"
   ]
  },
  {
   "cell_type": "code",
   "execution_count": 127,
   "metadata": {
    "slideshow": {
     "slide_type": "subslide"
    }
   },
   "outputs": [
    {
     "data": {
      "text/html": [
       "<table>\n",
       "<tbody>\n",
       "\t<tr><td>1 </td><td> 3</td><td>12</td><td> 1</td></tr>\n",
       "\t<tr><td>2 </td><td>11</td><td>13</td><td>-1</td></tr>\n",
       "</tbody>\n",
       "</table>\n"
      ],
      "text/latex": [
       "\\begin{tabular}{llll}\n",
       "\t 1  &  3 & 12 &  1\\\\\n",
       "\t 2  & 11 & 13 & -1\\\\\n",
       "\\end{tabular}\n"
      ],
      "text/markdown": [
       "\n",
       "| 1  |  3 | 12 |  1 |\n",
       "| 2  | 11 | 13 | -1 |\n",
       "\n"
      ],
      "text/plain": [
       "     [,1] [,2] [,3] [,4]\n",
       "[1,] 1     3   12    1  \n",
       "[2,] 2    11   13   -1  "
      ]
     },
     "metadata": {},
     "output_type": "display_data"
    },
    {
     "data": {
      "text/html": [
       "<table>\n",
       "<tbody>\n",
       "\t<tr><td> 1</td><td> 3</td><td>12</td></tr>\n",
       "\t<tr><td> 2</td><td>11</td><td>13</td></tr>\n",
       "\t<tr><td>-1</td><td>-1</td><td>10</td></tr>\n",
       "</tbody>\n",
       "</table>\n"
      ],
      "text/latex": [
       "\\begin{tabular}{lll}\n",
       "\t  1 &  3 & 12\\\\\n",
       "\t  2 & 11 & 13\\\\\n",
       "\t -1 & -1 & 10\\\\\n",
       "\\end{tabular}\n"
      ],
      "text/markdown": [
       "\n",
       "|  1 |  3 | 12 |\n",
       "|  2 | 11 | 13 |\n",
       "| -1 | -1 | 10 |\n",
       "\n"
      ],
      "text/plain": [
       "     [,1] [,2] [,3]\n",
       "[1,]  1    3   12  \n",
       "[2,]  2   11   13  \n",
       "[3,] -1   -1   10  "
      ]
     },
     "metadata": {},
     "output_type": "display_data"
    }
   ],
   "source": [
    "# 合并\n",
    "\n",
    "cbind(mdat, c(1,-1))\n",
    "\n",
    "rbind(mdat, c(-1,-1,10))"
   ]
  },
  {
   "cell_type": "markdown",
   "metadata": {
    "slideshow": {
     "slide_type": "subslide"
    }
   },
   "source": [
    "常常用到R运算符对矩阵执行各种数学运算：\n",
    "\n",
    "- 简单的运算：转置、逐元素相乘除、矩阵相乘除\n",
    "- 数值计算：求逆、谱分解、奇异值分解、QR分解\n"
   ]
  },
  {
   "cell_type": "code",
   "execution_count": 4,
   "metadata": {
    "slideshow": {
     "slide_type": "subslide"
    }
   },
   "outputs": [
    {
     "name": "stdout",
     "output_type": "stream",
     "text": [
      "     [,1] [,2] [,3]\n",
      "[1,]    3   -1    2\n",
      "[2,]    9    4    6\n",
      "     [,1] [,2] [,3]\n",
      "[1,]    5    0    3\n",
      "[2,]    2    9    4\n",
      "Result of Hadamard multiplication \n",
      "     [,1] [,2] [,3]\n",
      "[1,]   15    0    6\n",
      "[2,]   18   36   24\n"
     ]
    }
   ],
   "source": [
    "# Create two 2x3 matrices.\n",
    "matrix1 <- matrix(c(3, 9, -1, 4, 2, 6), nrow = 2)\n",
    "print(matrix1)\n",
    "\n",
    "matrix2 <- matrix(c(5, 2, 0, 9, 3, 4), nrow = 2)\n",
    "print(matrix2)\n",
    "\n",
    "# Multiply the Hadamard matrices.\n",
    "result <- matrix1 * matrix2\n",
    "cat(\"Result of Hadamard multiplication\",\"\n",
    "\")\n",
    "print(result)"
   ]
  },
  {
   "cell_type": "code",
   "execution_count": 5,
   "metadata": {
    "scrolled": true,
    "slideshow": {
     "slide_type": "subslide"
    }
   },
   "outputs": [
    {
     "name": "stdout",
     "output_type": "stream",
     "text": [
      "Result of division \n",
      "     [,1]      [,2]      [,3]\n",
      "[1,]  0.6      -Inf 0.6666667\n",
      "[2,]  4.5 0.4444444 1.5000000\n",
      "Result of multiplication \n",
      "     [,1] [,2] [,3]\n",
      "[1,]   33   81   45\n",
      "[2,]    3   36   13\n",
      "[3,]   22   54   30\n"
     ]
    }
   ],
   "source": [
    "# Divide the matrices\n",
    "result <- matrix1 / matrix2\n",
    "cat(\"Result of division\",\"\n",
    "\")\n",
    "print(result)\n",
    "\n",
    "# Multiply the matrices.\n",
    "result <- t(matrix1) %*% matrix2\n",
    "cat(\"Result of multiplication\",\"\n",
    "\")\n",
    "print(result)"
   ]
  },
  {
   "cell_type": "markdown",
   "metadata": {
    "slideshow": {
     "slide_type": "subslide"
    }
   },
   "source": [
    "对于向量，可以用 `sum` ，`mean`等函数对其进行计算。对于矩阵或数组也可以作这类函数的jisaun，但其结果相当于对矩阵或数组全部数据做运算，当计算矩阵各行的和时会很不方便，R语言提供`apply()`函数来完成这项工作。其使用格式为：\n",
    "\n",
    "```\n",
    "apply(X, MARGIN, FUN, ...)\n",
    "```\n",
    "\n",
    "参数X为数组或矩阵，MARGIN为指定数组或矩阵的维，FUN为用来计算的函数。"
   ]
  },
  {
   "cell_type": "code",
   "execution_count": 1,
   "metadata": {
    "slideshow": {
     "slide_type": "fragment"
    }
   },
   "outputs": [
    {
     "data": {
      "text/html": [
       "<table>\n",
       "<tbody>\n",
       "\t<tr><td>1</td><td>3</td><td>5</td></tr>\n",
       "\t<tr><td>2</td><td>4</td><td>6</td></tr>\n",
       "</tbody>\n",
       "</table>\n"
      ],
      "text/latex": [
       "\\begin{tabular}{lll}\n",
       "\t 1 & 3 & 5\\\\\n",
       "\t 2 & 4 & 6\\\\\n",
       "\\end{tabular}\n"
      ],
      "text/markdown": [
       "\n",
       "| 1 | 3 | 5 |\n",
       "| 2 | 4 | 6 |\n",
       "\n"
      ],
      "text/plain": [
       "     [,1] [,2] [,3]\n",
       "[1,] 1    3    5   \n",
       "[2,] 2    4    6   "
      ]
     },
     "metadata": {},
     "output_type": "display_data"
    }
   ],
   "source": [
    "A<-matrix(1:6, nrow=2);A"
   ]
  },
  {
   "cell_type": "code",
   "execution_count": 2,
   "metadata": {
    "slideshow": {
     "slide_type": "fragment"
    }
   },
   "outputs": [
    {
     "data": {
      "text/html": [
       "21"
      ],
      "text/latex": [
       "21"
      ],
      "text/markdown": [
       "21"
      ],
      "text/plain": [
       "[1] 21"
      ]
     },
     "metadata": {},
     "output_type": "display_data"
    }
   ],
   "source": [
    "sum(A)"
   ]
  },
  {
   "cell_type": "code",
   "execution_count": 3,
   "metadata": {
    "slideshow": {
     "slide_type": "fragment"
    }
   },
   "outputs": [
    {
     "data": {
      "text/html": [
       "<ol class=list-inline>\n",
       "\t<li>9</li>\n",
       "\t<li>12</li>\n",
       "</ol>\n"
      ],
      "text/latex": [
       "\\begin{enumerate*}\n",
       "\\item 9\n",
       "\\item 12\n",
       "\\end{enumerate*}\n"
      ],
      "text/markdown": [
       "1. 9\n",
       "2. 12\n",
       "\n",
       "\n"
      ],
      "text/plain": [
       "[1]  9 12"
      ]
     },
     "metadata": {},
     "output_type": "display_data"
    }
   ],
   "source": [
    "apply(A, 1, sum)"
   ]
  },
  {
   "cell_type": "markdown",
   "metadata": {
    "slideshow": {
     "slide_type": "slide"
    }
   },
   "source": [
    "### 因子\n",
    "\n",
    "统计中的变量有几种重要类别：区间变量、名义变量和有序变量。区间变量取连续的数值，可以进行求和、平均值等运算。名义变量和有序变量取离散值，可以用数值代表，也可以是字符型值，其具体数值没有加减乘除的意义，不能用来计算，而只能用来分类或计数。"
   ]
  },
  {
   "cell_type": "markdown",
   "metadata": {
    "slideshow": {
     "slide_type": "slide"
    }
   },
   "source": [
    "在R中，使用因子(factor)来表示名义变量或有序变量。分类变量, 如性别、省份、职业等；有序变量，如打分结果、疾病严重程度等。\n",
    "\n",
    "一般使用 `factor()` 函数通过将向量作为输入创建因子，其使用格式为：\n",
    "```\n",
    "factor(x = character(), levels, labels = levels,\n",
    "       exclude = NA, ordered = is.ordered(x), nmax = NA)\n",
    "```\n",
    "\n",
    "- x为数据向量，也是被转换成因子的向量\n",
    "- levels为可选向量，表示因子水平，当此参数去默认值时，由x元素中的不同值来确定\n",
    "- labels为可选向量，用来指定各水平的名称，取默认值时，取levels的值"
   ]
  },
  {
   "cell_type": "code",
   "execution_count": 131,
   "metadata": {
    "slideshow": {
     "slide_type": "subslide"
    }
   },
   "outputs": [
    {
     "name": "stdout",
     "output_type": "stream",
     "text": [
      " [1] \"East\"  \"West\"  \"East\"  \"North\" \"North\" \"East\"  \"West\"  \"West\"  \"West\" \n",
      "[10] \"East\"  \"North\"\n",
      "[1] FALSE\n",
      " [1] East  West  East  North North East  West  West  West  East  North\n",
      "Levels: East North West\n",
      "[1] TRUE\n",
      " [1] East  West  East  North North East  West  West  West  East  North\n",
      "Levels: East West North\n"
     ]
    }
   ],
   "source": [
    "#?factor\n",
    "\n",
    "# Create a vector as input.\n",
    "data <- c(\"East\",\"West\",\"East\",\"North\",\"North\",\"East\",\"West\",\"West\",\"West\",\"East\",\"North\")\n",
    "\n",
    "print(data)\n",
    "print(is.factor(data))\n",
    "\n",
    "# Apply the factor function.\n",
    "factor_data <- factor(data)\n",
    "\n",
    "print(factor_data)\n",
    "print(is.factor(factor_data))\n",
    "\n",
    "# Apply the factor function with required order of the level.\n",
    "new_order_data <- factor(factor_data,levels = c(\"East\",\"West\",\"North\"))\n",
    "print(new_order_data)"
   ]
  },
  {
   "cell_type": "markdown",
   "metadata": {
    "slideshow": {
     "slide_type": "subslide"
    }
   },
   "source": [
    "与因子类型有关的函数：\n",
    "- `table()`函数，统计因子各水平的出现次数\n",
    "- `tapply()`函数，按照因子分组然后每组计算另一变量的概括统计\n",
    "- forcats包的因子函数，在分类变量类数较多时，往往需要对因子水平另外排序、合并等， forcats包提供了一些针对因子的方便函数。"
   ]
  },
  {
   "cell_type": "code",
   "execution_count": 140,
   "metadata": {
    "slideshow": {
     "slide_type": "subslide"
    }
   },
   "outputs": [
    {
     "data": {
      "text/plain": [
       "sex\n",
       "男 女 \n",
       " 3  2 "
      ]
     },
     "metadata": {},
     "output_type": "display_data"
    }
   ],
   "source": [
    "x <- c(\"男\", \"女\", \"男\", \"男\",  \"女\")\n",
    "sex <- factor(x)\n",
    "\n",
    "# ?table\n",
    "table(sex)"
   ]
  },
  {
   "cell_type": "code",
   "execution_count": 141,
   "metadata": {
    "slideshow": {
     "slide_type": "fragment"
    }
   },
   "outputs": [
    {
     "data": {
      "text/html": [
       "<dl class=dl-horizontal>\n",
       "\t<dt>男</dt>\n",
       "\t\t<dd>168.333333333333</dd>\n",
       "\t<dt>女</dt>\n",
       "\t\t<dd>164.5</dd>\n",
       "</dl>\n"
      ],
      "text/latex": [
       "\\begin{description*}\n",
       "\\item[男] 168.333333333333\n",
       "\\item[女] 164.5\n",
       "\\end{description*}\n"
      ],
      "text/markdown": [
       "男\n",
       ":   168.333333333333女\n",
       ":   164.5\n",
       "\n"
      ],
      "text/plain": [
       "      男       女 \n",
       "168.3333 164.5000 "
      ]
     },
     "metadata": {},
     "output_type": "display_data"
    }
   ],
   "source": [
    "# ?tapply\n",
    "\n",
    "h <- c(165, 170, 168, 172, 159)\n",
    "tapply(h, sex, FUN=mean, simplify=TRUE)"
   ]
  },
  {
   "cell_type": "markdown",
   "metadata": {
    "slideshow": {
     "slide_type": "slide"
    }
   },
   "source": [
    "### 数据帧\n",
    "\n",
    "数据框是表或二维阵列状结构，每列为一个变量，每行为一个观测样本，有点像Excel表格的样子。\n",
    "\n",
    "以下是数据框的特性：\n",
    "\n",
    "- 列名称应为非空，行名称应该是唯一的\n",
    "- 存储在数据帧中的数据（各列）允许有不同类型：数值型向量、因子、字符型向量、日期时间向量\n",
    "- 每个列应包含相同数量的数据项\n",
    "\n",
    "数据框可以用`data.frame()`函数生成，可以看成是矩阵的推广，也可以看作一种特殊的列表。"
   ]
  },
  {
   "cell_type": "code",
   "execution_count": 2,
   "metadata": {
    "slideshow": {
     "slide_type": "slide"
    }
   },
   "outputs": [
    {
     "name": "stdout",
     "output_type": "stream",
     "text": [
      "  emp_id emp_name salary age start_date\n",
      "1      1     Rick 623.30  30 2012-01-01\n",
      "2      2      Dan 515.20  32 2013-09-23\n",
      "3      3 Michelle 611.00  34 2014-11-15\n",
      "4      4     Ryan 729.00  37 2014-05-11\n",
      "5      5     Gary 843.25  40 2015-03-27\n"
     ]
    }
   ],
   "source": [
    "# Create the data frame.\n",
    "emp.data <- data.frame(\n",
    "   emp_id = c (1:5), \n",
    "   emp_name = c(\"Rick\",\"Dan\",\"Michelle\",\"Ryan\",\"Gary\"),\n",
    "   salary = c(623.3,515.2,611.0,729.0,843.25), \n",
    "   age = c(30,32,34,37,40),\n",
    "   start_date = as.Date(c(\"2012-01-01\", \"2013-09-23\", \"2014-11-15\", \"2014-05-11\",\n",
    "      \"2015-03-27\")),\n",
    "   stringsAsFactors = FALSE # 避免字符型转换成因子\n",
    ")\n",
    "# Print the data frame.\n",
    "print(emp.data) "
   ]
  },
  {
   "cell_type": "markdown",
   "metadata": {
    "slideshow": {
     "slide_type": "slide"
    }
   },
   "source": [
    "数据框内容访问:\n",
    "- 矩阵格式\n",
    "- 列名\n",
    "- 双括号\n",
    "- `attach()`"
   ]
  },
  {
   "cell_type": "code",
   "execution_count": 3,
   "metadata": {
    "slideshow": {
     "slide_type": "slide"
    }
   },
   "outputs": [
    {
     "data": {
      "text/html": [
       "'Rick'"
      ],
      "text/latex": [
       "'Rick'"
      ],
      "text/markdown": [
       "'Rick'"
      ],
      "text/plain": [
       "[1] \"Rick\""
      ]
     },
     "metadata": {},
     "output_type": "display_data"
    },
    {
     "data": {
      "text/html": [
       "<table>\n",
       "<thead><tr><th scope=col>emp_id</th><th scope=col>emp_name</th><th scope=col>salary</th><th scope=col>age</th><th scope=col>start_date</th></tr></thead>\n",
       "<tbody>\n",
       "\t<tr><td>1         </td><td>Rick      </td><td>623.3     </td><td>30        </td><td>2012-01-01</td></tr>\n",
       "</tbody>\n",
       "</table>\n"
      ],
      "text/latex": [
       "\\begin{tabular}{r|lllll}\n",
       " emp\\_id & emp\\_name & salary & age & start\\_date\\\\\n",
       "\\hline\n",
       "\t 1          & Rick       & 623.3      & 30         & 2012-01-01\\\\\n",
       "\\end{tabular}\n"
      ],
      "text/markdown": [
       "\n",
       "| emp_id | emp_name | salary | age | start_date |\n",
       "|---|---|---|---|---|\n",
       "| 1          | Rick       | 623.3      | 30         | 2012-01-01 |\n",
       "\n"
      ],
      "text/plain": [
       "  emp_id emp_name salary age start_date\n",
       "1 1      Rick     623.3  30  2012-01-01"
      ]
     },
     "metadata": {},
     "output_type": "display_data"
    },
    {
     "data": {
      "text/html": [
       "<table>\n",
       "<thead><tr><th scope=col>salary</th></tr></thead>\n",
       "<tbody>\n",
       "\t<tr><td>623.30</td></tr>\n",
       "\t<tr><td>515.20</td></tr>\n",
       "\t<tr><td>611.00</td></tr>\n",
       "\t<tr><td>729.00</td></tr>\n",
       "\t<tr><td>843.25</td></tr>\n",
       "</tbody>\n",
       "</table>\n"
      ],
      "text/latex": [
       "\\begin{tabular}{r|l}\n",
       " salary\\\\\n",
       "\\hline\n",
       "\t 623.30\\\\\n",
       "\t 515.20\\\\\n",
       "\t 611.00\\\\\n",
       "\t 729.00\\\\\n",
       "\t 843.25\\\\\n",
       "\\end{tabular}\n"
      ],
      "text/markdown": [
       "\n",
       "| salary |\n",
       "|---|\n",
       "| 623.30 |\n",
       "| 515.20 |\n",
       "| 611.00 |\n",
       "| 729.00 |\n",
       "| 843.25 |\n",
       "\n"
      ],
      "text/plain": [
       "  salary\n",
       "1 623.30\n",
       "2 515.20\n",
       "3 611.00\n",
       "4 729.00\n",
       "5 843.25"
      ]
     },
     "metadata": {},
     "output_type": "display_data"
    },
    {
     "data": {
      "text/html": [
       "<ol class=list-inline>\n",
       "\t<li>623.3</li>\n",
       "\t<li>515.2</li>\n",
       "\t<li>611</li>\n",
       "\t<li>729</li>\n",
       "\t<li>843.25</li>\n",
       "</ol>\n"
      ],
      "text/latex": [
       "\\begin{enumerate*}\n",
       "\\item 623.3\n",
       "\\item 515.2\n",
       "\\item 611\n",
       "\\item 729\n",
       "\\item 843.25\n",
       "\\end{enumerate*}\n"
      ],
      "text/markdown": [
       "1. 623.3\n",
       "2. 515.2\n",
       "3. 611\n",
       "4. 729\n",
       "5. 843.25\n",
       "\n",
       "\n"
      ],
      "text/plain": [
       "[1] 623.30 515.20 611.00 729.00 843.25"
      ]
     },
     "metadata": {},
     "output_type": "display_data"
    },
    {
     "data": {
      "text/html": [
       "<ol class=list-inline>\n",
       "\t<li>1</li>\n",
       "\t<li>2</li>\n",
       "\t<li>3</li>\n",
       "\t<li>4</li>\n",
       "\t<li>5</li>\n",
       "</ol>\n"
      ],
      "text/latex": [
       "\\begin{enumerate*}\n",
       "\\item 1\n",
       "\\item 2\n",
       "\\item 3\n",
       "\\item 4\n",
       "\\item 5\n",
       "\\end{enumerate*}\n"
      ],
      "text/markdown": [
       "1. 1\n",
       "2. 2\n",
       "3. 3\n",
       "4. 4\n",
       "5. 5\n",
       "\n",
       "\n"
      ],
      "text/plain": [
       "[1] 1 2 3 4 5"
      ]
     },
     "metadata": {},
     "output_type": "display_data"
    },
    {
     "data": {
      "text/html": [
       "<ol class=list-inline>\n",
       "\t<li>30</li>\n",
       "\t<li>32</li>\n",
       "\t<li>34</li>\n",
       "\t<li>37</li>\n",
       "\t<li>40</li>\n",
       "</ol>\n"
      ],
      "text/latex": [
       "\\begin{enumerate*}\n",
       "\\item 30\n",
       "\\item 32\n",
       "\\item 34\n",
       "\\item 37\n",
       "\\item 40\n",
       "\\end{enumerate*}\n"
      ],
      "text/markdown": [
       "1. 30\n",
       "2. 32\n",
       "3. 34\n",
       "4. 37\n",
       "5. 40\n",
       "\n",
       "\n"
      ],
      "text/plain": [
       "[1] 30 32 34 37 40"
      ]
     },
     "metadata": {},
     "output_type": "display_data"
    }
   ],
   "source": [
    "emp.data[1,2]\n",
    "\n",
    "emp.data[1,]\n",
    "\n",
    "emp.data['salary'] # 单括号取子集\n",
    "\n",
    "emp.data[['salary']] # 双括号取元素\n",
    "\n",
    "emp.data$emp_id\n",
    "\n",
    "attach(emp.data)\n",
    "\n",
    "age"
   ]
  },
  {
   "cell_type": "markdown",
   "metadata": {
    "slideshow": {
     "slide_type": "slide"
    }
   },
   "source": [
    "如果需要作矩阵（或数组）各行或各列的某种运算，需要用到 `apply()` 函数。对于列表和数据框，需要作某种变量的计算就需要用到 `lapply()` 函数或 `sapply()` 函数。两个函数的使用方法相同，其差别在于：`lapply()` 的返回值为列表， `sapply()` 的返回值为数据框。"
   ]
  },
  {
   "cell_type": "code",
   "execution_count": 7,
   "metadata": {
    "slideshow": {
     "slide_type": "fragment"
    }
   },
   "outputs": [
    {
     "data": {
      "text/html": [
       "<dl>\n",
       "\t<dt>$age</dt>\n",
       "\t\t<dd>34.6</dd>\n",
       "\t<dt>$salary</dt>\n",
       "\t\t<dd>664.35</dd>\n",
       "</dl>\n"
      ],
      "text/latex": [
       "\\begin{description}\n",
       "\\item[\\$age] 34.6\n",
       "\\item[\\$salary] 664.35\n",
       "\\end{description}\n"
      ],
      "text/markdown": [
       "$age\n",
       ":   34.6\n",
       "$salary\n",
       ":   664.35\n",
       "\n",
       "\n"
      ],
      "text/plain": [
       "$age\n",
       "[1] 34.6\n",
       "\n",
       "$salary\n",
       "[1] 664.35\n"
      ]
     },
     "metadata": {},
     "output_type": "display_data"
    }
   ],
   "source": [
    "lapply(emp.data[c(\"age\", \"salary\")], mean)"
   ]
  },
  {
   "cell_type": "code",
   "execution_count": 8,
   "metadata": {
    "slideshow": {
     "slide_type": "fragment"
    }
   },
   "outputs": [
    {
     "data": {
      "text/html": [
       "<dl class=dl-horizontal>\n",
       "\t<dt>age</dt>\n",
       "\t\t<dd>34.6</dd>\n",
       "\t<dt>salary</dt>\n",
       "\t\t<dd>664.35</dd>\n",
       "</dl>\n"
      ],
      "text/latex": [
       "\\begin{description*}\n",
       "\\item[age] 34.6\n",
       "\\item[salary] 664.35\n",
       "\\end{description*}\n"
      ],
      "text/markdown": [
       "age\n",
       ":   34.6salary\n",
       ":   664.35\n",
       "\n"
      ],
      "text/plain": [
       "   age salary \n",
       " 34.60 664.35 "
      ]
     },
     "metadata": {},
     "output_type": "display_data"
    }
   ],
   "source": [
    "sapply(emp.data[c(\"age\", \"salary\")], mean)"
   ]
  },
  {
   "cell_type": "markdown",
   "metadata": {
    "slideshow": {
     "slide_type": "slide"
    }
   },
   "source": [
    "### 列表\n",
    "\n",
    "列表是一种特别的对象集合，各元素的类型可以是任意对象，不同元素不必是同一类型。\n",
    "\n",
    "一般使用 `list()` 函数创建，列表元素的引用方式有：\n",
    "\n",
    "- 列表名[[下标]]\n",
    "- 列表名[[元素名]]\n",
    "- 列表名\\$元素名\n",
    "\n",
    "列表的一个元素也可以称为列表的一个“变量”，单个列表元素必须用两重方括号格式访问，如果使用单重方括号对列表取子集，结果还是列表而不是列表元素。\n",
    "\n",
    "此外，列表一般都应该有元素名，元素名可以看成是变量名，列表中的每个元素看成一个变量。"
   ]
  },
  {
   "cell_type": "code",
   "execution_count": 144,
   "metadata": {
    "slideshow": {
     "slide_type": "subslide"
    }
   },
   "outputs": [
    {
     "name": "stdout",
     "output_type": "stream",
     "text": [
      "[[1]]\n",
      "[1] \"Red\"\n",
      "\n",
      "[[2]]\n",
      "[1] TRUE\n",
      "\n",
      "[[3]]\n",
      "[1] 51.23\n",
      "\n",
      "$name\n",
      "[1] \"long\"\n",
      "\n",
      "[1] \"Red\"\n",
      "[1] \"long\"\n",
      "[1] \"long\"\n"
     ]
    }
   ],
   "source": [
    "my_list <- list(\"Red\", TRUE, 51.23, name='long')\n",
    "print(my_list)\n",
    "\n",
    "print(my_list[[1]])\n",
    "print(my_list[[\"name\"]])\n",
    "print(my_list$name)"
   ]
  },
  {
   "cell_type": "markdown",
   "metadata": {
    "slideshow": {
     "slide_type": "subslide"
    }
   },
   "source": [
    "列表的主要目的是提供R分析结果输出包装：输出一个变量，这个变量包括回归系数、预测值、残差、检验结果等等一系列不能放到规则形状数据结构中的内容。 \n",
    "\n",
    "列表与数据框：数据框也是列表的一种，但是数据框要求各列等长，而列表不要求。\n",
    "\n",
    "列表与向量：列表的不同元素的类型可以不同"
   ]
  },
  {
   "cell_type": "code",
   "execution_count": 147,
   "metadata": {
    "slideshow": {
     "slide_type": "subslide"
    }
   },
   "outputs": [
    {
     "name": "stdout",
     "output_type": "stream",
     "text": [
      "[[1]]\n",
      "[1] \"10\" \" 8\" \" 7\"\n",
      "\n",
      "[[2]]\n",
      "[1] \"5\"  \" 2\" \" 2\"\n",
      "\n",
      "[[3]]\n",
      "[1] \"3\"  \" 7\" \" 8\"\n",
      "\n",
      "[[4]]\n",
      "[1] \"8\"  \" 8\" \" 9\"\n",
      "\n"
     ]
    }
   ],
   "source": [
    "# 返回列表的函数示例 - strsplit()\n",
    "\n",
    "x <- c('10, 8, 7', '5, 2, 2', '3, 7, 8', '8, 8, 9')\n",
    "res <- strsplit(x, ',');\n",
    "print(res)"
   ]
  }
 ],
 "metadata": {
  "celltoolbar": "Slideshow",
  "kernelspec": {
   "display_name": "R",
   "language": "R",
   "name": "ir"
  },
  "language_info": {
   "codemirror_mode": "r",
   "file_extension": ".r",
   "mimetype": "text/x-r-source",
   "name": "R",
   "pygments_lexer": "r",
   "version": "3.5.3"
  }
 },
 "nbformat": 4,
 "nbformat_minor": 2
}
